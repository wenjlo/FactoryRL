{
 "cells": [
  {
   "cell_type": "code",
   "execution_count": 12,
   "metadata": {
    "colab": {
     "base_uri": "https://localhost:8080/",
     "height": 500
    },
    "id": "UZglXnoqRBnA",
    "outputId": "fe346050-e88d-44f4-bef7-07a20b98cca6",
    "ExecuteTime": {
     "end_time": "2025-06-26T02:49:50.780762Z",
     "start_time": "2025-06-26T02:49:50.734917Z"
    }
   },
   "outputs": [
    {
     "name": "stdout",
     "output_type": "stream",
     "text": [
      "Checking whether there is an H2O instance running at http://localhost:54321. connected.\n"
     ]
    },
    {
     "data": {
      "text/plain": "--------------------------  -------------------------------\nH2O_cluster_uptime:         35 mins 50 secs\nH2O_cluster_timezone:       Asia/Taipei\nH2O_data_parsing_timezone:  UTC\nH2O_cluster_version:        3.46.0.7\nH2O_cluster_version_age:    2 months and 29 days\nH2O_cluster_name:           H2O_from_python_chris_lo_w0o0zk\nH2O_cluster_total_nodes:    1\nH2O_cluster_free_memory:    3.981 Gb\nH2O_cluster_total_cores:    12\nH2O_cluster_allowed_cores:  12\nH2O_cluster_status:         locked, healthy\nH2O_connection_url:         http://localhost:54321\nH2O_connection_proxy:       {\"http\": null, \"https\": null}\nH2O_internal_security:      False\nPython_version:             3.11.6 final\n--------------------------  -------------------------------",
      "text/html": "\n<style>\n\n#h2o-table-2.h2o-container {\n  overflow-x: auto;\n}\n#h2o-table-2 .h2o-table {\n  /* width: 100%; */\n  margin-top: 1em;\n  margin-bottom: 1em;\n}\n#h2o-table-2 .h2o-table caption {\n  white-space: nowrap;\n  caption-side: top;\n  text-align: left;\n  /* margin-left: 1em; */\n  margin: 0;\n  font-size: larger;\n}\n#h2o-table-2 .h2o-table thead {\n  white-space: nowrap; \n  position: sticky;\n  top: 0;\n  box-shadow: 0 -1px inset;\n}\n#h2o-table-2 .h2o-table tbody {\n  overflow: auto;\n}\n#h2o-table-2 .h2o-table th,\n#h2o-table-2 .h2o-table td {\n  text-align: right;\n  /* border: 1px solid; */\n}\n#h2o-table-2 .h2o-table tr:nth-child(even) {\n  /* background: #F5F5F5 */\n}\n\n</style>      \n<div id=\"h2o-table-2\" class=\"h2o-container\">\n  <table class=\"h2o-table\">\n    <caption></caption>\n    <thead></thead>\n    <tbody><tr><td>H2O_cluster_uptime:</td>\n<td>35 mins 50 secs</td></tr>\n<tr><td>H2O_cluster_timezone:</td>\n<td>Asia/Taipei</td></tr>\n<tr><td>H2O_data_parsing_timezone:</td>\n<td>UTC</td></tr>\n<tr><td>H2O_cluster_version:</td>\n<td>3.46.0.7</td></tr>\n<tr><td>H2O_cluster_version_age:</td>\n<td>2 months and 29 days</td></tr>\n<tr><td>H2O_cluster_name:</td>\n<td>H2O_from_python_chris_lo_w0o0zk</td></tr>\n<tr><td>H2O_cluster_total_nodes:</td>\n<td>1</td></tr>\n<tr><td>H2O_cluster_free_memory:</td>\n<td>3.981 Gb</td></tr>\n<tr><td>H2O_cluster_total_cores:</td>\n<td>12</td></tr>\n<tr><td>H2O_cluster_allowed_cores:</td>\n<td>12</td></tr>\n<tr><td>H2O_cluster_status:</td>\n<td>locked, healthy</td></tr>\n<tr><td>H2O_connection_url:</td>\n<td>http://localhost:54321</td></tr>\n<tr><td>H2O_connection_proxy:</td>\n<td>{\"http\": null, \"https\": null}</td></tr>\n<tr><td>H2O_internal_security:</td>\n<td>False</td></tr>\n<tr><td>Python_version:</td>\n<td>3.11.6 final</td></tr></tbody>\n  </table>\n</div>\n"
     },
     "metadata": {},
     "output_type": "display_data"
    }
   ],
   "source": [
    "import gym\n",
    "import numpy as np\n",
    "import pandas as pd\n",
    "from itertools import count\n",
    "import pickle\n",
    "from collections import namedtuple\n",
    "import h2o\n",
    "import torch\n",
    "import torch.nn as nn\n",
    "import torch.nn.functional as F\n",
    "import torch.optim as optim\n",
    "from torch.distributions import Categorical\n",
    "from collections import OrderedDict\n",
    "import warnings\n",
    "import random\n",
    "from sklearn.preprocessing import MinMaxScaler\n",
    "warnings.filterwarnings('ignore')\n",
    "h2o.init()\n",
    "h2o.no_progress()"
   ]
  },
  {
   "cell_type": "code",
   "outputs": [],
   "source": [
    "# 預先在雲端硬碟中上傳 new_data.csv\n",
    "injection_data_path = '../data/16539338267026_new_data.csv'\n",
    "\n",
    "# 輸出檔案至雲端硬碟\n",
    "scalar_path = '../data/scalar-20220803-factor.pickle'\n",
    "save_model_path = '../model/h2o_injection_model-20220803-factor.model/StackedEnsemble_AllModels_1_AutoML_1_20250626_101532'\n",
    "a2c_model_path = '../model/a2c-20220803.model'"
   ],
   "metadata": {
    "id": "WVxozjLuRr_I",
    "ExecuteTime": {
     "end_time": "2025-06-26T02:49:14.444361Z",
     "start_time": "2025-06-26T02:49:14.429890Z"
    }
   },
   "execution_count": 2
  },
  {
   "cell_type": "code",
   "execution_count": 3,
   "metadata": {
    "id": "hVhfHmU5H6Lx",
    "ExecuteTime": {
     "end_time": "2025-06-26T02:49:16.014977Z",
     "start_time": "2025-06-26T02:49:15.997096Z"
    }
   },
   "outputs": [],
   "source": [
    "def preproc_to_raw_data(data_preproc_):\n",
    "  # onehot 後的data 轉回raw data\n",
    "  df_ = pd.DataFrame()\n",
    "  for c in X_features:\n",
    "    dt = one_hot_enc[c].inverse_transform(data_preproc_.loc[:, data_preproc_.columns.str.startswith(c)])\n",
    "    dt = label_enc[c].inverse_transform(dt)\n",
    "    df_[c] = dt\n",
    "\n",
    "  df_[y_feature] = data_preproc_[y_feature].apply(lambda x:10**x)\n",
    "  return df_\n",
    "\n",
    "def raw_data_to_preproc(data):\n",
    "  # rawdata  轉onehot data\n",
    "  data_ = data.copy()\n",
    "  df_ = pd.DataFrame()\n",
    "  for c in X_features:\n",
    "    data_[c] = label_enc[c].transform(data_[c])\n",
    "  for c in X_features:\n",
    "    dt = pd.DataFrame(one_hot_enc[c].transform(data_[[c]]).toarray())\n",
    "    dt = dt.add_prefix('%s_'%c)\n",
    "    dt = dt.astype(int)\n",
    "    df_ = pd.concat([df_.reset_index(drop=True),dt],axis=1)\n",
    "  df_ = df_.astype(int)\n",
    "  df_[y_feature] = np.log10(data_[y_feature].values)\n",
    "  return df_\n",
    "\n",
    "def mask_action(data):\n",
    "  # 需要遮蔽的 action, 因為有機會輸出當前已經存在的參數\n",
    "  def flatten(t):\n",
    "    return [item for sublist in t for item in sublist]\n",
    "  data_ = data.copy()\n",
    "  mask_loc = []\n",
    "  data_ = data_[X_features]\n",
    "  for c in X_features:\n",
    "    idx = action_table[(action_table['params']==c)&(action_table['value_']==data_[c].values[-1])].index\n",
    "    mask_loc.append(idx)\n",
    "  return flatten(mask_loc)\n"
   ]
  },
  {
   "cell_type": "code",
   "execution_count": 13,
   "metadata": {
    "colab": {
     "base_uri": "https://localhost:8080/",
     "height": 297
    },
    "id": "S8vhk4WlR3lA",
    "outputId": "c9c8cc8e-e850-45d0-da06-3f0440501632",
    "ExecuteTime": {
     "end_time": "2025-06-26T02:50:05.593039Z",
     "start_time": "2025-06-26T02:50:05.373634Z"
    }
   },
   "outputs": [
    {
     "data": {
      "text/plain": "   射出一速_最高壓力_0  射出一速_最高壓力_1  射出一速_最高壓力_2  射出一速_最高壓力_3  射出一速_最高壓力_4  \\\n0            0            0            0            0            0   \n1            0            0            0            0            0   \n2            0            0            0            0            0   \n3            0            0            0            0            0   \n4            0            0            0            0            0   \n\n   射出一速_最高壓力_5  射出一速_最高壓力_6  射出一速_最高壓力_7  射出一速_最高壓力_8  射出一速_最高壓力_9  ...  \\\n0            0            0            0            1            0  ...   \n1            0            0            0            0            0  ...   \n2            0            0            0            0            0  ...   \n3            0            0            0            0            0  ...   \n4            0            0            0            0            0  ...   \n\n   一段保壓_速度_8  一段保壓_速度_9  一段保壓_速度_10  一段保壓_速度_11  一段保壓_速度_12  一段保壓_速度_13  \\\n0          0          0           0           0           0           0   \n1          0          0           0           0           0           0   \n2          0          0           0           0           0           0   \n3          0          0           0           0           0           0   \n4          0          0           0           0           0           0   \n\n   一段保壓_速度_14  一段保壓_速度_15  一段保壓_速度_16        重量  \n0           0           0           0  2.093422  \n1           0           0           0  2.093422  \n2           0           0           0  2.093422  \n3           0           0           0  2.093422  \n4           0           0           0  2.093422  \n\n[5 rows x 192 columns]",
      "text/html": "<div>\n<style scoped>\n    .dataframe tbody tr th:only-of-type {\n        vertical-align: middle;\n    }\n\n    .dataframe tbody tr th {\n        vertical-align: top;\n    }\n\n    .dataframe thead th {\n        text-align: right;\n    }\n</style>\n<table border=\"1\" class=\"dataframe\">\n  <thead>\n    <tr style=\"text-align: right;\">\n      <th></th>\n      <th>射出一速_最高壓力_0</th>\n      <th>射出一速_最高壓力_1</th>\n      <th>射出一速_最高壓力_2</th>\n      <th>射出一速_最高壓力_3</th>\n      <th>射出一速_最高壓力_4</th>\n      <th>射出一速_最高壓力_5</th>\n      <th>射出一速_最高壓力_6</th>\n      <th>射出一速_最高壓力_7</th>\n      <th>射出一速_最高壓力_8</th>\n      <th>射出一速_最高壓力_9</th>\n      <th>...</th>\n      <th>一段保壓_速度_8</th>\n      <th>一段保壓_速度_9</th>\n      <th>一段保壓_速度_10</th>\n      <th>一段保壓_速度_11</th>\n      <th>一段保壓_速度_12</th>\n      <th>一段保壓_速度_13</th>\n      <th>一段保壓_速度_14</th>\n      <th>一段保壓_速度_15</th>\n      <th>一段保壓_速度_16</th>\n      <th>重量</th>\n    </tr>\n  </thead>\n  <tbody>\n    <tr>\n      <th>0</th>\n      <td>0</td>\n      <td>0</td>\n      <td>0</td>\n      <td>0</td>\n      <td>0</td>\n      <td>0</td>\n      <td>0</td>\n      <td>0</td>\n      <td>1</td>\n      <td>0</td>\n      <td>...</td>\n      <td>0</td>\n      <td>0</td>\n      <td>0</td>\n      <td>0</td>\n      <td>0</td>\n      <td>0</td>\n      <td>0</td>\n      <td>0</td>\n      <td>0</td>\n      <td>2.093422</td>\n    </tr>\n    <tr>\n      <th>1</th>\n      <td>0</td>\n      <td>0</td>\n      <td>0</td>\n      <td>0</td>\n      <td>0</td>\n      <td>0</td>\n      <td>0</td>\n      <td>0</td>\n      <td>0</td>\n      <td>0</td>\n      <td>...</td>\n      <td>0</td>\n      <td>0</td>\n      <td>0</td>\n      <td>0</td>\n      <td>0</td>\n      <td>0</td>\n      <td>0</td>\n      <td>0</td>\n      <td>0</td>\n      <td>2.093422</td>\n    </tr>\n    <tr>\n      <th>2</th>\n      <td>0</td>\n      <td>0</td>\n      <td>0</td>\n      <td>0</td>\n      <td>0</td>\n      <td>0</td>\n      <td>0</td>\n      <td>0</td>\n      <td>0</td>\n      <td>0</td>\n      <td>...</td>\n      <td>0</td>\n      <td>0</td>\n      <td>0</td>\n      <td>0</td>\n      <td>0</td>\n      <td>0</td>\n      <td>0</td>\n      <td>0</td>\n      <td>0</td>\n      <td>2.093422</td>\n    </tr>\n    <tr>\n      <th>3</th>\n      <td>0</td>\n      <td>0</td>\n      <td>0</td>\n      <td>0</td>\n      <td>0</td>\n      <td>0</td>\n      <td>0</td>\n      <td>0</td>\n      <td>0</td>\n      <td>0</td>\n      <td>...</td>\n      <td>0</td>\n      <td>0</td>\n      <td>0</td>\n      <td>0</td>\n      <td>0</td>\n      <td>0</td>\n      <td>0</td>\n      <td>0</td>\n      <td>0</td>\n      <td>2.093422</td>\n    </tr>\n    <tr>\n      <th>4</th>\n      <td>0</td>\n      <td>0</td>\n      <td>0</td>\n      <td>0</td>\n      <td>0</td>\n      <td>0</td>\n      <td>0</td>\n      <td>0</td>\n      <td>0</td>\n      <td>0</td>\n      <td>...</td>\n      <td>0</td>\n      <td>0</td>\n      <td>0</td>\n      <td>0</td>\n      <td>0</td>\n      <td>0</td>\n      <td>0</td>\n      <td>0</td>\n      <td>0</td>\n      <td>2.093422</td>\n    </tr>\n  </tbody>\n</table>\n<p>5 rows × 192 columns</p>\n</div>"
     },
     "execution_count": 13,
     "metadata": {},
     "output_type": "execute_result"
    }
   ],
   "source": [
    "injection_model = h2o.load_model(save_model_path)\n",
    "with open(scalar_path, 'rb') as f:\n",
    "  label_enc = pickle.load(f)['label']\n",
    "with open(scalar_path, 'rb') as f:\n",
    "  one_hot_enc = pickle.load(f)['one_hot']\n",
    "\n",
    "data = pd.read_csv(injection_data_path)\n",
    "from scipy import stats\n",
    "import math\n",
    "data_ = data.copy().dropna()#[(np.abs(stats.zscore(data)) < 3).all(axis=1)]\n",
    "y_feature = '重量'\n",
    "X_features = ['射出一速_最高壓力','射出一速_速度','射出二速_最高壓力','射出二速_速度','儲料位置','一段保壓_速度']\n",
    "for i in data_.columns:\n",
    "  if i == '一段保壓_速度':\n",
    "    data_[i] = data_[i].apply(lambda v: math.floor(v * 10) / 10.0)\n",
    "  else:\n",
    "    data_[i] = data_[i].apply(lambda v: math.floor(v))\n",
    "\n",
    "\n",
    "\n",
    "data_preproc = raw_data_to_preproc(data_)\n",
    "data_preproc.head(5)\n"
   ]
  },
  {
   "cell_type": "code",
   "execution_count": 14,
   "metadata": {
    "colab": {
     "base_uri": "https://localhost:8080/"
    },
    "id": "W_Dh0sg2R3Bv",
    "outputId": "ca27539c-16bc-4dae-b431-e65eb2b6bffb",
    "ExecuteTime": {
     "end_time": "2025-06-26T02:50:06.554208Z",
     "start_time": "2025-06-26T02:50:06.544020Z"
    }
   },
   "outputs": [
    {
     "name": "stdout",
     "output_type": "stream",
     "text": [
      "射出一速_最高壓力 : 最大值:136 最小值:77\n",
      "射出一速_速度 : 最大值:128 最小值:0\n",
      "射出二速_最高壓力 : 最大值:143 最小值:117\n",
      "射出二速_速度 : 最大值:115 最小值:0\n",
      "儲料位置 : 最大值:103 最小值:92\n",
      "一段保壓_速度 : 最大值:1.6 最小值:0.0\n"
     ]
    }
   ],
   "source": [
    "action_dict = {}\n",
    "for c in X_features:\n",
    "  values = data_[c].unique().tolist()\n",
    "  values.sort()\n",
    "  action_dict[c] = values\n",
    "  print(f'{c} : 最大值:{np.max(values)} 最小值:{np.min(values)}')"
   ]
  },
  {
   "cell_type": "code",
   "execution_count": 15,
   "metadata": {
    "colab": {
     "base_uri": "https://localhost:8080/",
     "height": 424
    },
    "id": "6Xfpbpl7oWNA",
    "outputId": "b1628e92-7349-43ca-f959-f8eafc481476",
    "ExecuteTime": {
     "end_time": "2025-06-26T02:50:07.582556Z",
     "start_time": "2025-06-26T02:50:07.567300Z"
    }
   },
   "outputs": [
    {
     "data": {
      "text/plain": "        params  value_\n0    射出一速_最高壓力    77.0\n1    射出一速_最高壓力    90.0\n2    射出一速_最高壓力    91.0\n3    射出一速_最高壓力    92.0\n4    射出一速_最高壓力    93.0\n..         ...     ...\n186    一段保壓_速度     1.2\n187    一段保壓_速度     1.3\n188    一段保壓_速度     1.4\n189    一段保壓_速度     1.5\n190    一段保壓_速度     1.6\n\n[191 rows x 2 columns]",
      "text/html": "<div>\n<style scoped>\n    .dataframe tbody tr th:only-of-type {\n        vertical-align: middle;\n    }\n\n    .dataframe tbody tr th {\n        vertical-align: top;\n    }\n\n    .dataframe thead th {\n        text-align: right;\n    }\n</style>\n<table border=\"1\" class=\"dataframe\">\n  <thead>\n    <tr style=\"text-align: right;\">\n      <th></th>\n      <th>params</th>\n      <th>value_</th>\n    </tr>\n  </thead>\n  <tbody>\n    <tr>\n      <th>0</th>\n      <td>射出一速_最高壓力</td>\n      <td>77.0</td>\n    </tr>\n    <tr>\n      <th>1</th>\n      <td>射出一速_最高壓力</td>\n      <td>90.0</td>\n    </tr>\n    <tr>\n      <th>2</th>\n      <td>射出一速_最高壓力</td>\n      <td>91.0</td>\n    </tr>\n    <tr>\n      <th>3</th>\n      <td>射出一速_最高壓力</td>\n      <td>92.0</td>\n    </tr>\n    <tr>\n      <th>4</th>\n      <td>射出一速_最高壓力</td>\n      <td>93.0</td>\n    </tr>\n    <tr>\n      <th>...</th>\n      <td>...</td>\n      <td>...</td>\n    </tr>\n    <tr>\n      <th>186</th>\n      <td>一段保壓_速度</td>\n      <td>1.2</td>\n    </tr>\n    <tr>\n      <th>187</th>\n      <td>一段保壓_速度</td>\n      <td>1.3</td>\n    </tr>\n    <tr>\n      <th>188</th>\n      <td>一段保壓_速度</td>\n      <td>1.4</td>\n    </tr>\n    <tr>\n      <th>189</th>\n      <td>一段保壓_速度</td>\n      <td>1.5</td>\n    </tr>\n    <tr>\n      <th>190</th>\n      <td>一段保壓_速度</td>\n      <td>1.6</td>\n    </tr>\n  </tbody>\n</table>\n<p>191 rows × 2 columns</p>\n</div>"
     },
     "execution_count": 15,
     "metadata": {},
     "output_type": "execute_result"
    }
   ],
   "source": [
    "# 將所有的action 定義成一張table,透過index查詢動作\n",
    "\n",
    "action_dict = OrderedDict(action_dict)\n",
    "action_table = pd.DataFrame()\n",
    "params = []\n",
    "true_value = []\n",
    "for k in action_dict.keys():\n",
    "  for v in action_dict[k]:\n",
    "    params.append(k)\n",
    "    true_value.append(v)\n",
    "action_table['params'] = params\n",
    "action_table['value_'] = true_value\n",
    "action_table"
   ]
  },
  {
   "cell_type": "code",
   "execution_count": 16,
   "metadata": {
    "colab": {
     "base_uri": "https://localhost:8080/",
     "height": 81
    },
    "id": "_mxgEvy7T91u",
    "outputId": "13d66210-336b-4b6b-9adf-c8abe770388c",
    "ExecuteTime": {
     "end_time": "2025-06-26T02:50:08.796767Z",
     "start_time": "2025-06-26T02:50:08.781900Z"
    }
   },
   "outputs": [
    {
     "data": {
      "text/plain": "   射出一速_最高壓力  射出一速_速度  射出二速_最高壓力  射出二速_速度  儲料位置  一段保壓_速度   重量\n0        100       64        120       50    93      0.3  124",
      "text/html": "<div>\n<style scoped>\n    .dataframe tbody tr th:only-of-type {\n        vertical-align: middle;\n    }\n\n    .dataframe tbody tr th {\n        vertical-align: top;\n    }\n\n    .dataframe thead th {\n        text-align: right;\n    }\n</style>\n<table border=\"1\" class=\"dataframe\">\n  <thead>\n    <tr style=\"text-align: right;\">\n      <th></th>\n      <th>射出一速_最高壓力</th>\n      <th>射出一速_速度</th>\n      <th>射出二速_最高壓力</th>\n      <th>射出二速_速度</th>\n      <th>儲料位置</th>\n      <th>一段保壓_速度</th>\n      <th>重量</th>\n    </tr>\n  </thead>\n  <tbody>\n    <tr>\n      <th>0</th>\n      <td>100</td>\n      <td>64</td>\n      <td>120</td>\n      <td>50</td>\n      <td>93</td>\n      <td>0.3</td>\n      <td>124</td>\n    </tr>\n  </tbody>\n</table>\n</div>"
     },
     "execution_count": 16,
     "metadata": {},
     "output_type": "execute_result"
    }
   ],
   "source": [
    "# 可調參數\n",
    "# reward discount gamma\n",
    "GAMMA = 0.99\n",
    "# 每訓練幾步 print 出結果\n",
    "LOG_INTERVAL = 10\n",
    "\n",
    "# State 紀錄 5 次\n",
    "OBSERVATION_N = 5\n",
    "# State column size 98\n",
    "OBSERVATION_COLUMNS = data_preproc.shape[1]\n",
    "\n",
    "# 可以輸出的動做個數 = action_table.shape[0]\n",
    "ACTION_N = action_table.shape[0]\n",
    "# reward alpha,beta\n",
    "REWARD_ALPHA = 0.5\n",
    "REWARD_BETA = 0.5\n",
    "# 目標要達成的strength\n",
    "TARGET_Y1 = 140\n",
    "\n",
    "# Buffer size\n",
    "BUFFER_N = 20\n",
    "\n",
    "# done reward thres\n",
    "DONE_THRES = -2.5\n",
    "\n",
    "# max run episode\n",
    "EPISODE_MAX = 5000\n",
    "\n",
    "\n",
    "init_params = {'射出一速_最高壓力':[100],\n",
    " '射出一速_速度':[64],\n",
    " '射出二速_最高壓力':[120],\n",
    " '射出二速_速度':[50],\n",
    " '儲料位置':[93],\n",
    " '一段保壓_速度':[0.3],\n",
    " '重量':[124]}\n",
    "init_params = pd.DataFrame.from_dict(init_params)\n",
    "init_params"
   ]
  },
  {
   "cell_type": "code",
   "execution_count": 17,
   "metadata": {
    "id": "tuAVdwV-5YD9",
    "ExecuteTime": {
     "end_time": "2025-06-26T02:50:10.097596Z",
     "start_time": "2025-06-26T02:50:10.090580Z"
    }
   },
   "outputs": [],
   "source": [
    "def action_from_model(action):\n",
    "  # action space = ACTION_N = [0.3,0.1,0.2,....]\n",
    "  act_index = action #np.argmax(action)\n",
    "  change_params_name = action_table.iloc[act_index]['params']\n",
    "  change_params_value = action_table.iloc[act_index]['value_']\n",
    "  return (change_params_name,change_params_value)\n",
    "\n",
    "\n",
    "def change_params(data,param_name,value):\n",
    "\n",
    "  data[param_name] = value\n",
    "  return data"
   ]
  },
  {
   "cell_type": "code",
   "execution_count": 49,
   "metadata": {
    "id": "wJCrJgwyUdGJ",
    "ExecuteTime": {
     "end_time": "2025-06-26T03:02:20.247750Z",
     "start_time": "2025-06-26T03:02:20.242271Z"
    }
   },
   "outputs": [],
   "source": [
    "#from pandas._libs.tslibs.timedeltas import delta_to_nanoseconds\n",
    "# injection 環境\n",
    "class InjecttionEnv(gym.Env):\n",
    "    \n",
    "  def __init__(self,injection_model):\n",
    "    self.action_space = gym.spaces.Discrete(ACTION_N)\n",
    "    self.observation_space = gym.spaces.Box(low=0,high=3000,shape=(OBSERVATION_COLUMNS*OBSERVATION_N,))\n",
    "    self.injection_model = injection_model\n",
    "    self.current_state = None\n",
    "    self.current_state_pandas = None\n",
    "    self.times = 0\n",
    "    self.y = y_feature\n",
    "    self.x_names = X_features\n",
    "      \n",
    "  def step(self, action):\n",
    "    self.times += 1\n",
    "    done = False\n",
    "    #mask_loc = mask_action(self.current_state_pandas.tail(1))\n",
    "    # action[mask_loc] = -np.Inf\n",
    "    params_name,change_value = action_from_model(action)\n",
    "    current_state_df = self.current_state_pandas.tail(1).copy()\n",
    "    current_state_df = change_params(current_state_df,params_name,change_value)\n",
    "    #X = raw_data_to_preproc(current_state_df)[self.x_names]\n",
    "    X = current_state_df.copy()\n",
    "    for c in X_features:\n",
    "      X[c] = label_enc[c].transform(X[[c]])\n",
    "    X = h2o.H2OFrame(X)\n",
    "    for c in X_features:\n",
    "      X[c] = X[c].asfactor()\n",
    "\n",
    "    strength = self.injection_model.predict(X).as_data_frame()['predict']\n",
    "\n",
    "    current_state_df[self.y] = strength.values[0]\n",
    "    \n",
    "    #old code...\n",
    "    #self.current_state_pandas = self.current_state_pandas.append(current_state_df)\n",
    "    self.current_state_pandas = pd.concat([self.current_state_pandas,current_state_df],ignore_index=True)\n",
    "    self.check_state_len()\n",
    "    next_state = raw_data_to_preproc(self.current_state_pandas)\n",
    "    # reward 定義 當前 strength 和 target strength 的差值\n",
    "    delta = abs(self.current_state_pandas.tail(1)[y_feature].values[0] - TARGET_Y1)\n",
    "    reward = -delta#(REWARD_ALPHA*delta+REWARD_BETA*self.times**2)\n",
    "\n",
    "\n",
    "    mask_loc = mask_action(self.current_state_pandas.tail(1))\n",
    "    # 當reward大於 DONE_THRES  結束\n",
    "    if (reward > DONE_THRES) or self.times>10:\n",
    "      done = True\n",
    "    return self.state_warmup(next_state.values.flatten()), reward,mask_loc, done,None\n",
    "\n",
    "  def check_state_len(self):\n",
    "    if len(self.current_state_pandas) > OBSERVATION_N:\n",
    "      self.current_state_pandas = self.current_state_pandas.iloc[1:]\n",
    "\n",
    "  def state_warmup(self,state):\n",
    "    k = OBSERVATION_COLUMNS*OBSERVATION_N\n",
    "    n = state.shape[0]\n",
    "    if n < k:\n",
    "      zeros = np.zeros(shape=k)\n",
    "      zeros[:n] = state\n",
    "      return zeros\n",
    "    else:\n",
    "      return state\n",
    "\n",
    "  def reset(self):\n",
    "      # 以injection_process_old.csv 第一筆當作初始state\n",
    "      df = init_params#preproc_to_raw_data(data_preproc.head(1))\n",
    "      state = raw_data_to_preproc(df)\n",
    "      self.current_state_pandas = df\n",
    "      self.current_state = state\n",
    "      self.times = 0\n",
    "      return self.state_warmup(state.values.flatten()),mask_action(df)"
   ]
  },
  {
   "cell_type": "code",
   "execution_count": 50,
   "metadata": {
    "colab": {
     "base_uri": "https://localhost:8080/"
    },
    "id": "9gKawy9tMW2J",
    "outputId": "1c6225a3-d6eb-4056-d075-74a6829e0e68",
    "ExecuteTime": {
     "end_time": "2025-06-26T03:02:21.396169Z",
     "start_time": "2025-06-26T03:02:21.369811Z"
    }
   },
   "outputs": [
    {
     "data": {
      "text/plain": "(array([0.        , 0.        , 0.        , 0.        , 0.        ,\n        0.        , 0.        , 0.        , 1.        , 0.        ,\n        0.        , 0.        , 0.        , 0.        , 0.        ,\n        0.        , 0.        , 0.        , 0.        , 0.        ,\n        0.        , 0.        , 0.        , 0.        , 0.        ,\n        0.        , 0.        , 0.        , 0.        , 0.        ,\n        0.        , 0.        , 0.        , 0.        , 0.        ,\n        0.        , 0.        , 0.        , 0.        , 0.        ,\n        0.        , 1.        , 0.        , 0.        , 0.        ,\n        0.        , 0.        , 0.        , 0.        , 0.        ,\n        0.        , 0.        , 0.        , 0.        , 0.        ,\n        0.        , 0.        , 0.        , 0.        , 0.        ,\n        0.        , 0.        , 0.        , 0.        , 0.        ,\n        0.        , 0.        , 0.        , 0.        , 0.        ,\n        0.        , 0.        , 0.        , 0.        , 0.        ,\n        0.        , 0.        , 0.        , 1.        , 0.        ,\n        0.        , 0.        , 0.        , 0.        , 0.        ,\n        0.        , 0.        , 0.        , 0.        , 0.        ,\n        0.        , 0.        , 0.        , 0.        , 0.        ,\n        0.        , 0.        , 0.        , 0.        , 0.        ,\n        0.        , 0.        , 0.        , 0.        , 0.        ,\n        0.        , 0.        , 0.        , 0.        , 0.        ,\n        0.        , 0.        , 0.        , 0.        , 0.        ,\n        0.        , 0.        , 0.        , 0.        , 0.        ,\n        0.        , 0.        , 0.        , 0.        , 0.        ,\n        0.        , 0.        , 1.        , 0.        , 0.        ,\n        0.        , 0.        , 0.        , 0.        , 0.        ,\n        0.        , 0.        , 0.        , 0.        , 0.        ,\n        0.        , 0.        , 0.        , 0.        , 0.        ,\n        0.        , 0.        , 0.        , 0.        , 0.        ,\n        0.        , 0.        , 0.        , 0.        , 0.        ,\n        0.        , 0.        , 0.        , 0.        , 0.        ,\n        0.        , 0.        , 0.        , 0.        , 0.        ,\n        0.        , 0.        , 1.        , 0.        , 0.        ,\n        0.        , 0.        , 0.        , 0.        , 0.        ,\n        0.        , 0.        , 1.        , 0.        , 0.        ,\n        0.        , 0.        , 0.        , 0.        , 0.        ,\n        0.        , 0.        , 0.        , 0.        , 0.        ,\n        0.        , 2.09342169, 0.        , 0.        , 0.        ,\n        0.        , 0.        , 0.        , 0.        , 0.        ,\n        0.        , 0.        , 0.        , 0.        , 0.        ,\n        0.        , 0.        , 0.        , 0.        , 0.        ,\n        0.        , 0.        , 0.        , 0.        , 0.        ,\n        0.        , 0.        , 0.        , 0.        , 0.        ,\n        0.        , 0.        , 0.        , 0.        , 0.        ,\n        0.        , 0.        , 0.        , 0.        , 0.        ,\n        0.        , 0.        , 0.        , 0.        , 0.        ,\n        0.        , 0.        , 0.        , 0.        , 0.        ,\n        0.        , 0.        , 0.        , 0.        , 0.        ,\n        0.        , 0.        , 0.        , 0.        , 0.        ,\n        0.        , 0.        , 0.        , 0.        , 0.        ,\n        0.        , 0.        , 0.        , 0.        , 0.        ,\n        0.        , 0.        , 0.        , 0.        , 0.        ,\n        0.        , 0.        , 0.        , 0.        , 0.        ,\n        0.        , 0.        , 0.        , 0.        , 0.        ,\n        0.        , 0.        , 0.        , 0.        , 0.        ,\n        0.        , 0.        , 0.        , 0.        , 0.        ,\n        0.        , 0.        , 0.        , 0.        , 0.        ,\n        0.        , 0.        , 0.        , 0.        , 0.        ,\n        0.        , 0.        , 0.        , 0.        , 0.        ,\n        0.        , 0.        , 0.        , 0.        , 0.        ,\n        0.        , 0.        , 0.        , 0.        , 0.        ,\n        0.        , 0.        , 0.        , 0.        , 0.        ,\n        0.        , 0.        , 0.        , 0.        , 0.        ,\n        0.        , 0.        , 0.        , 0.        , 0.        ,\n        0.        , 0.        , 0.        , 0.        , 0.        ,\n        0.        , 0.        , 0.        , 0.        , 0.        ,\n        0.        , 0.        , 0.        , 0.        , 0.        ,\n        0.        , 0.        , 0.        , 0.        , 0.        ,\n        0.        , 0.        , 0.        , 0.        , 0.        ,\n        0.        , 0.        , 0.        , 0.        , 0.        ,\n        0.        , 0.        , 0.        , 0.        , 0.        ,\n        0.        , 0.        , 0.        , 0.        , 0.        ,\n        0.        , 0.        , 0.        , 0.        , 0.        ,\n        0.        , 0.        , 0.        , 0.        , 0.        ,\n        0.        , 0.        , 0.        , 0.        , 0.        ,\n        0.        , 0.        , 0.        , 0.        , 0.        ,\n        0.        , 0.        , 0.        , 0.        , 0.        ,\n        0.        , 0.        , 0.        , 0.        , 0.        ,\n        0.        , 0.        , 0.        , 0.        , 0.        ,\n        0.        , 0.        , 0.        , 0.        , 0.        ,\n        0.        , 0.        , 0.        , 0.        , 0.        ,\n        0.        , 0.        , 0.        , 0.        , 0.        ,\n        0.        , 0.        , 0.        , 0.        , 0.        ,\n        0.        , 0.        , 0.        , 0.        , 0.        ,\n        0.        , 0.        , 0.        , 0.        , 0.        ,\n        0.        , 0.        , 0.        , 0.        , 0.        ,\n        0.        , 0.        , 0.        , 0.        , 0.        ,\n        0.        , 0.        , 0.        , 0.        , 0.        ,\n        0.        , 0.        , 0.        , 0.        , 0.        ,\n        0.        , 0.        , 0.        , 0.        , 0.        ,\n        0.        , 0.        , 0.        , 0.        , 0.        ,\n        0.        , 0.        , 0.        , 0.        , 0.        ,\n        0.        , 0.        , 0.        , 0.        , 0.        ,\n        0.        , 0.        , 0.        , 0.        , 0.        ,\n        0.        , 0.        , 0.        , 0.        , 0.        ,\n        0.        , 0.        , 0.        , 0.        , 0.        ,\n        0.        , 0.        , 0.        , 0.        , 0.        ,\n        0.        , 0.        , 0.        , 0.        , 0.        ,\n        0.        , 0.        , 0.        , 0.        , 0.        ,\n        0.        , 0.        , 0.        , 0.        , 0.        ,\n        0.        , 0.        , 0.        , 0.        , 0.        ,\n        0.        , 0.        , 0.        , 0.        , 0.        ,\n        0.        , 0.        , 0.        , 0.        , 0.        ,\n        0.        , 0.        , 0.        , 0.        , 0.        ,\n        0.        , 0.        , 0.        , 0.        , 0.        ,\n        0.        , 0.        , 0.        , 0.        , 0.        ,\n        0.        , 0.        , 0.        , 0.        , 0.        ,\n        0.        , 0.        , 0.        , 0.        , 0.        ,\n        0.        , 0.        , 0.        , 0.        , 0.        ,\n        0.        , 0.        , 0.        , 0.        , 0.        ,\n        0.        , 0.        , 0.        , 0.        , 0.        ,\n        0.        , 0.        , 0.        , 0.        , 0.        ,\n        0.        , 0.        , 0.        , 0.        , 0.        ,\n        0.        , 0.        , 0.        , 0.        , 0.        ,\n        0.        , 0.        , 0.        , 0.        , 0.        ,\n        0.        , 0.        , 0.        , 0.        , 0.        ,\n        0.        , 0.        , 0.        , 0.        , 0.        ,\n        0.        , 0.        , 0.        , 0.        , 0.        ,\n        0.        , 0.        , 0.        , 0.        , 0.        ,\n        0.        , 0.        , 0.        , 0.        , 0.        ,\n        0.        , 0.        , 0.        , 0.        , 0.        ,\n        0.        , 0.        , 0.        , 0.        , 0.        ,\n        0.        , 0.        , 0.        , 0.        , 0.        ,\n        0.        , 0.        , 0.        , 0.        , 0.        ,\n        0.        , 0.        , 0.        , 0.        , 0.        ,\n        0.        , 0.        , 0.        , 0.        , 0.        ,\n        0.        , 0.        , 0.        , 0.        , 0.        ,\n        0.        , 0.        , 0.        , 0.        , 0.        ,\n        0.        , 0.        , 0.        , 0.        , 0.        ,\n        0.        , 0.        , 0.        , 0.        , 0.        ,\n        0.        , 0.        , 0.        , 0.        , 0.        ,\n        0.        , 0.        , 0.        , 0.        , 0.        ,\n        0.        , 0.        , 0.        , 0.        , 0.        ,\n        0.        , 0.        , 0.        , 0.        , 0.        ,\n        0.        , 0.        , 0.        , 0.        , 0.        ,\n        0.        , 0.        , 0.        , 0.        , 0.        ,\n        0.        , 0.        , 0.        , 0.        , 0.        ,\n        0.        , 0.        , 0.        , 0.        , 0.        ,\n        0.        , 0.        , 0.        , 0.        , 0.        ,\n        0.        , 0.        , 0.        , 0.        , 0.        ,\n        0.        , 0.        , 0.        , 0.        , 0.        ,\n        0.        , 0.        , 0.        , 0.        , 0.        ,\n        0.        , 0.        , 0.        , 0.        , 0.        ,\n        0.        , 0.        , 0.        , 0.        , 0.        ,\n        0.        , 0.        , 0.        , 0.        , 0.        ,\n        0.        , 0.        , 0.        , 0.        , 0.        ,\n        0.        , 0.        , 0.        , 0.        , 0.        ,\n        0.        , 0.        , 0.        , 0.        , 0.        ,\n        0.        , 0.        , 0.        , 0.        , 0.        ,\n        0.        , 0.        , 0.        , 0.        , 0.        ,\n        0.        , 0.        , 0.        , 0.        , 0.        ,\n        0.        , 0.        , 0.        , 0.        , 0.        ,\n        0.        , 0.        , 0.        , 0.        , 0.        ,\n        0.        , 0.        , 0.        , 0.        , 0.        ,\n        0.        , 0.        , 0.        , 0.        , 0.        ,\n        0.        , 0.        , 0.        , 0.        , 0.        ,\n        0.        , 0.        , 0.        , 0.        , 0.        ,\n        0.        , 0.        , 0.        , 0.        , 0.        ,\n        0.        , 0.        , 0.        , 0.        , 0.        ,\n        0.        , 0.        , 0.        , 0.        , 0.        ,\n        0.        , 0.        , 0.        , 0.        , 0.        ,\n        0.        , 0.        , 0.        , 0.        , 0.        ,\n        0.        , 0.        , 0.        , 0.        , 0.        ,\n        0.        , 0.        , 0.        , 0.        , 0.        ,\n        0.        , 0.        , 0.        , 0.        , 0.        ,\n        0.        , 0.        , 0.        , 0.        , 0.        ,\n        0.        , 0.        , 0.        , 0.        , 0.        ,\n        0.        , 0.        , 0.        , 0.        , 0.        ,\n        0.        , 0.        , 0.        , 0.        , 0.        ,\n        0.        , 0.        , 0.        , 0.        , 0.        ,\n        0.        , 0.        , 0.        , 0.        , 0.        ,\n        0.        , 0.        , 0.        , 0.        , 0.        ,\n        0.        , 0.        , 0.        , 0.        , 0.        ,\n        0.        , 0.        , 0.        , 0.        , 0.        ,\n        0.        , 0.        , 0.        , 0.        , 0.        ,\n        0.        , 0.        , 0.        , 0.        , 0.        ,\n        0.        , 0.        , 0.        , 0.        , 0.        ,\n        0.        , 0.        , 0.        , 0.        , 0.        ,\n        0.        , 0.        , 0.        , 0.        , 0.        ,\n        0.        , 0.        , 0.        , 0.        , 0.        ,\n        0.        , 0.        , 0.        , 0.        , 0.        ,\n        0.        , 0.        , 0.        , 0.        , 0.        ,\n        0.        , 0.        , 0.        , 0.        , 0.        ,\n        0.        , 0.        , 0.        , 0.        , 0.        ,\n        0.        , 0.        , 0.        , 0.        , 0.        ,\n        0.        , 0.        , 0.        , 0.        , 0.        ,\n        0.        , 0.        , 0.        , 0.        , 0.        ,\n        0.        , 0.        , 0.        , 0.        , 0.        ,\n        0.        , 0.        , 0.        , 0.        , 0.        ,\n        0.        , 0.        , 0.        , 0.        , 0.        ,\n        0.        , 0.        , 0.        , 0.        , 0.        ]),\n [8, 41, 78, 127, 167, 177])"
     },
     "execution_count": 50,
     "metadata": {},
     "output_type": "execute_result"
    }
   ],
   "source": [
    "env = InjecttionEnv(injection_model)\n",
    "env.reset()"
   ]
  },
  {
   "cell_type": "code",
   "execution_count": 51,
   "metadata": {
    "id": "HCeJxh2uT0ti",
    "ExecuteTime": {
     "end_time": "2025-06-26T03:02:22.629920Z",
     "start_time": "2025-06-26T03:02:22.622361Z"
    }
   },
   "outputs": [],
   "source": [
    "SavedAction = namedtuple('SavedAction', ['log_prob', 'value'])"
   ]
  },
  {
   "cell_type": "code",
   "execution_count": 52,
   "metadata": {
    "id": "v51kOznQDc7K",
    "ExecuteTime": {
     "end_time": "2025-06-26T03:02:23.662584Z",
     "start_time": "2025-06-26T03:02:23.652015Z"
    }
   },
   "outputs": [],
   "source": [
    "ACTIONS = action_table.index.tolist()\n",
    "\n",
    "class Policy(nn.Module):\n",
    "    \"\"\"\n",
    "    implements both actor and critic in one model\n",
    "    \"\"\"\n",
    "    def __init__(self):\n",
    "        super(Policy, self).__init__()\n",
    "        self.affine1 = nn.Linear(OBSERVATION_COLUMNS*OBSERVATION_N, 512)\n",
    "        # actor's layer\n",
    "        self.action_head = nn.Linear(512, ACTION_N)\n",
    "\n",
    "        # critic's layer\n",
    "        self.value_head = nn.Linear(512, 1)\n",
    "\n",
    "        # action & reward buffer\n",
    "        self.saved_actions = []\n",
    "        self.rewards = []\n",
    "\n",
    "    def forward(self, x):\n",
    "        \"\"\"\n",
    "        forward of both actor and critic\n",
    "        \"\"\"\n",
    "        #print(self.affine1(x))\n",
    "        x = F.relu(self.affine1(x))\n",
    "        #print(x)\n",
    "        # actor: choses action to take from state s_t\n",
    "        # by returning probability of each action\n",
    "        action_prob = F.softmax(self.action_head(x), dim=-1)\n",
    "        m = torch.ones([ACTION_N,])\n",
    "\n",
    "        #m[[mask,]] = 0.0\n",
    "        action_prob = action_prob*m\n",
    "        # critic: evaluates being in the state s_t\n",
    "        state_values = self.value_head(x)\n",
    "\n",
    "        # return values for both actor and critic as a tuple of 2 values:\n",
    "        # 1. a list with the probability of each action over the action space\n",
    "        # 2. the value from state s_t\n",
    "        return action_prob, state_values\n",
    "\n",
    "\n",
    "def random_action(state,mask):\n",
    "    state = torch.from_numpy(state).float()\n",
    "    probs, state_value = model(state)\n",
    "    m = Categorical(probs)\n",
    "    actions = [a for a in ACTIONS if a not in mask]\n",
    "    action = random.choice(actions)\n",
    "    action = torch.tensor(action)\n",
    "    model.saved_actions.append(SavedAction(m.log_prob(action), state_value))\n",
    "    return action.item()\n",
    "\n",
    "\n",
    "def select_action(state,mask):\n",
    "    if np.random.uniform() < 0.0:\n",
    "      return random_action(state,mask)\n",
    "    else:\n",
    "      state_ = torch.from_numpy(state).float()\n",
    "      probs, state_value = model(state_)\n",
    "\n",
    "        # create a categorical distribution over the list of probabilities of actions\n",
    "      m = Categorical(probs)\n",
    "\n",
    "        # and sample an action using the distribution\n",
    "      action = m.sample()\n",
    "      if action not in mask:\n",
    "          # save to action buffer 將action ,value 存入 buffer\n",
    "        model.saved_actions.append(SavedAction(m.log_prob(action), state_value))\n",
    "          #the action\n",
    "        return action.item()\n",
    "      else:\n",
    "        return random_action(state,mask)\n",
    "\n",
    "# def select_action(state,mask):\n",
    "\n",
    "#       state_ = torch.from_numpy(state).float()\n",
    "#       probs, state_value = model(state_,mask)\n",
    "\n",
    "#         # create a categorical distribution over the list of probabilities of actions\n",
    "#       m = Categorical(probs)\n",
    "\n",
    "#         # and sample an action using the distribution\n",
    "#       action = m.sample()\n",
    "#       # save to action buffer 將action ,value 存入 buffer\n",
    "#       model.saved_actions.append(SavedAction(m.log_prob(action), state_value))\n",
    "#           #the action\n",
    "#       return action.item()\n",
    "\n",
    "\n",
    "def finish_episode():\n",
    "    \"\"\"\n",
    "    Training code. Calculates actor and critic loss and performs backprop.\n",
    "    \"\"\"\n",
    "    R = 0\n",
    "    saved_actions = model.saved_actions\n",
    "    policy_losses = [] # list to save actor (policy) loss\n",
    "    value_losses = [] # list to save critic (value) loss\n",
    "    returns = [] # list to save the true values\n",
    "\n",
    "\n",
    "    # calculate the true value using rewards returned from the environment\n",
    "    for r in model.rewards[::-1]:\n",
    "        # calculate the discounted value\n",
    "        R = r + GAMMA * R\n",
    "        returns.insert(0, R)\n",
    "\n",
    "    returns = torch.tensor(returns)\n",
    "    returns = (returns - returns.mean()) / (returns.std() + eps)\n",
    "\n",
    "    for (log_prob, value), R in zip(saved_actions, returns):\n",
    "        advantage = R - value.item()\n",
    "\n",
    "        # calculate actor (policy) loss\n",
    "        policy_losses.append(-log_prob * advantage)\n",
    "\n",
    "        # calculate critic (value) loss using L1 smooth loss\n",
    "        value_losses.append(F.smooth_l1_loss(value, torch.tensor([R])))\n",
    "\n",
    "    # reset gradients\n",
    "    optimizer.zero_grad()\n",
    "\n",
    "    # sum up all the values of policy_losses and value_losses\n",
    "    loss = torch.stack(policy_losses).sum() + torch.stack(value_losses).sum()\n",
    "\n",
    "    # perform backprop\n",
    "    loss.backward()\n",
    "    optimizer.step()\n",
    "\n",
    "    # reset rewards and action buffer\n",
    "    del model.rewards[:]\n",
    "    del model.saved_actions[:]"
   ]
  },
  {
   "cell_type": "code",
   "execution_count": 31,
   "metadata": {
    "colab": {
     "base_uri": "https://localhost:8080/"
    },
    "id": "vkxWsRIKDjFp",
    "outputId": "408f7e5c-f639-47d6-9205-07a340578339",
    "ExecuteTime": {
     "end_time": "2025-06-26T02:59:13.674649Z",
     "start_time": "2025-06-26T02:59:10.634015Z"
    }
   },
   "outputs": [
    {
     "name": "stdout",
     "output_type": "stream",
     "text": [
      "\u001B[34m\u001B[1mwandb\u001B[0m: You can find your API key in your browser here: http://localhost:8080/authorize?ref=models\r\n",
      "\u001B[34m\u001B[1mwandb\u001B[0m: Paste an API key from your profile and hit enter, or press ctrl+c to quit: "
     ]
    }
   ],
   "source": [
    "# 記錄所有參數結果\n",
    "history = pd.DataFrame()\n",
    "\n",
    "import wandb\n",
    "# 紀錄reward 的工具\n",
    "!wandb login --relogin\n",
    "\n",
    "# 請登入帳號並輸入token\n"
   ]
  },
  {
   "cell_type": "code",
   "execution_count": null,
   "metadata": {
    "colab": {
     "base_uri": "https://localhost:8080/",
     "height": 87
    },
    "id": "nugokGUUDsty",
    "outputId": "27bb3c7b-2ba8-4047-f067-b25287370d2e"
   },
   "outputs": [],
   "source": [
    "run = wandb.init(project='a2c-advice-20220803-135-v1.0.0')"
   ]
  },
  {
   "cell_type": "code",
   "execution_count": 53,
   "metadata": {
    "id": "d0vfXvgnDziB",
    "ExecuteTime": {
     "end_time": "2025-06-26T03:02:26.509455Z",
     "start_time": "2025-06-26T03:02:26.495931Z"
    }
   },
   "outputs": [],
   "source": [
    "def act_to_act_names(x):\n",
    "  act_names = []\n",
    "  for i in x:\n",
    "    act_ = action_table.iloc[i]\n",
    "    params = act_['params']\n",
    "    value = act_['value_']\n",
    "    act_name = f'{params}_{value}'\n",
    "    act_names.append(act_name)\n",
    "  return act_names"
   ]
  },
  {
   "cell_type": "code",
   "execution_count": 54,
   "metadata": {
    "id": "1LsqA1QlD39J",
    "ExecuteTime": {
     "end_time": "2025-06-26T03:02:26.995975Z",
     "start_time": "2025-06-26T03:02:26.988872Z"
    }
   },
   "outputs": [],
   "source": [
    "model = Policy()\n",
    "eps = np.finfo(np.float32).eps.item()\n",
    "optimizer = optim.Adam(model.parameters(), lr=3e-2)\n"
   ]
  },
  {
   "cell_type": "code",
   "execution_count": 57,
   "metadata": {
    "colab": {
     "background_save": true,
     "base_uri": "https://localhost:8080/"
    },
    "id": "OcgMRw1AD6h6",
    "outputId": "564e4251-3fcf-4646-dc65-56b3dc84075d",
    "ExecuteTime": {
     "end_time": "2025-06-26T03:09:42.155412Z",
     "start_time": "2025-06-26T03:03:51.385152Z"
    }
   },
   "outputs": [
    {
     "name": "stdout",
     "output_type": "stream",
     "text": [
      "Episode 0\tAverage reward: -15.9620\t reward history:  [-15.995526103858694, -15.995575147530104, -15.976735996789841, -15.971304789484037, -15.96505536490558, -15.971919552684895, -15.96505536490558, -15.93498887181508, -15.940295096411205, -16.02727390312296, -15.940295096411205, -15.946467764378284, -15.953150082333622, -15.946467764378284, -15.953477098185203, -15.946467764378284, -15.950130883338716, -15.948474863004918, -15.950130883338716]\n",
      "Episode 10\tAverage reward: -13.9129\t reward history:  [-15.040784803403298, -15.041917930763205, -15.040784803403298, -15.041398746369481, -15.03950553180806, -15.03478448099564, -15.03950553180806, -15.028075518386359, -14.998432308293317, -15.052697623957485, -14.950216949593383, -14.908454194846499, -14.832622330022701, -14.753065515881175, -14.796835594066195, -14.753065515881175, -14.760450971538717, -5.1153507205070525, -5.11801041073619]\n",
      "Episode 20\tAverage reward: -15.1819\t reward history:  [-15.430075937121856, -15.4279040467014, -15.428803907984204, -15.429994777343339, -15.508295239781859, -15.509505315510097, -15.450175170213896, -15.06956270110932, -14.767515218025494, -15.06956270110932, -15.076620230413837, -15.06956270110932, -15.039987495229767, -15.041863495721486, -15.075765958242044, -15.011769940810836, -15.008871821599726, -15.010544645222154, -15.029905201364556]\n"
     ]
    },
    {
     "ename": "H2OConnectionError",
     "evalue": "Unexpected HTTP error: ('Connection aborted.', BadStatusLine('GET /3/Jobs/$03017f00000132d4ffffffff$_a93093564cfa5965ff10bfaa59a64f38 HTTP/1.1\\r\\n'))",
     "output_type": "error",
     "traceback": [
      "\u001B[31m---------------------------------------------------------------------------\u001B[39m",
      "\u001B[31mBadStatusLine\u001B[39m                             Traceback (most recent call last)",
      "\u001B[36mFile \u001B[39m\u001B[32m~/PycharmProjects/FactoryRL/.venv/lib/python3.11/site-packages/urllib3/connectionpool.py:787\u001B[39m, in \u001B[36mHTTPConnectionPool.urlopen\u001B[39m\u001B[34m(self, method, url, body, headers, retries, redirect, assert_same_host, timeout, pool_timeout, release_conn, chunked, body_pos, preload_content, decode_content, **response_kw)\u001B[39m\n\u001B[32m    786\u001B[39m \u001B[38;5;66;03m# Make the request on the HTTPConnection object\u001B[39;00m\n\u001B[32m--> \u001B[39m\u001B[32m787\u001B[39m response = \u001B[38;5;28;43mself\u001B[39;49m\u001B[43m.\u001B[49m\u001B[43m_make_request\u001B[49m\u001B[43m(\u001B[49m\n\u001B[32m    788\u001B[39m \u001B[43m    \u001B[49m\u001B[43mconn\u001B[49m\u001B[43m,\u001B[49m\n\u001B[32m    789\u001B[39m \u001B[43m    \u001B[49m\u001B[43mmethod\u001B[49m\u001B[43m,\u001B[49m\n\u001B[32m    790\u001B[39m \u001B[43m    \u001B[49m\u001B[43murl\u001B[49m\u001B[43m,\u001B[49m\n\u001B[32m    791\u001B[39m \u001B[43m    \u001B[49m\u001B[43mtimeout\u001B[49m\u001B[43m=\u001B[49m\u001B[43mtimeout_obj\u001B[49m\u001B[43m,\u001B[49m\n\u001B[32m    792\u001B[39m \u001B[43m    \u001B[49m\u001B[43mbody\u001B[49m\u001B[43m=\u001B[49m\u001B[43mbody\u001B[49m\u001B[43m,\u001B[49m\n\u001B[32m    793\u001B[39m \u001B[43m    \u001B[49m\u001B[43mheaders\u001B[49m\u001B[43m=\u001B[49m\u001B[43mheaders\u001B[49m\u001B[43m,\u001B[49m\n\u001B[32m    794\u001B[39m \u001B[43m    \u001B[49m\u001B[43mchunked\u001B[49m\u001B[43m=\u001B[49m\u001B[43mchunked\u001B[49m\u001B[43m,\u001B[49m\n\u001B[32m    795\u001B[39m \u001B[43m    \u001B[49m\u001B[43mretries\u001B[49m\u001B[43m=\u001B[49m\u001B[43mretries\u001B[49m\u001B[43m,\u001B[49m\n\u001B[32m    796\u001B[39m \u001B[43m    \u001B[49m\u001B[43mresponse_conn\u001B[49m\u001B[43m=\u001B[49m\u001B[43mresponse_conn\u001B[49m\u001B[43m,\u001B[49m\n\u001B[32m    797\u001B[39m \u001B[43m    \u001B[49m\u001B[43mpreload_content\u001B[49m\u001B[43m=\u001B[49m\u001B[43mpreload_content\u001B[49m\u001B[43m,\u001B[49m\n\u001B[32m    798\u001B[39m \u001B[43m    \u001B[49m\u001B[43mdecode_content\u001B[49m\u001B[43m=\u001B[49m\u001B[43mdecode_content\u001B[49m\u001B[43m,\u001B[49m\n\u001B[32m    799\u001B[39m \u001B[43m    \u001B[49m\u001B[43m*\u001B[49m\u001B[43m*\u001B[49m\u001B[43mresponse_kw\u001B[49m\u001B[43m,\u001B[49m\n\u001B[32m    800\u001B[39m \u001B[43m\u001B[49m\u001B[43m)\u001B[49m\n\u001B[32m    802\u001B[39m \u001B[38;5;66;03m# Everything went great!\u001B[39;00m\n",
      "\u001B[36mFile \u001B[39m\u001B[32m~/PycharmProjects/FactoryRL/.venv/lib/python3.11/site-packages/urllib3/connectionpool.py:534\u001B[39m, in \u001B[36mHTTPConnectionPool._make_request\u001B[39m\u001B[34m(self, conn, method, url, body, headers, retries, timeout, chunked, response_conn, preload_content, decode_content, enforce_content_length)\u001B[39m\n\u001B[32m    533\u001B[39m \u001B[38;5;28;01mtry\u001B[39;00m:\n\u001B[32m--> \u001B[39m\u001B[32m534\u001B[39m     response = \u001B[43mconn\u001B[49m\u001B[43m.\u001B[49m\u001B[43mgetresponse\u001B[49m\u001B[43m(\u001B[49m\u001B[43m)\u001B[49m\n\u001B[32m    535\u001B[39m \u001B[38;5;28;01mexcept\u001B[39;00m (BaseSSLError, \u001B[38;5;167;01mOSError\u001B[39;00m) \u001B[38;5;28;01mas\u001B[39;00m e:\n",
      "\u001B[36mFile \u001B[39m\u001B[32m~/PycharmProjects/FactoryRL/.venv/lib/python3.11/site-packages/urllib3/connection.py:565\u001B[39m, in \u001B[36mHTTPConnection.getresponse\u001B[39m\u001B[34m(self)\u001B[39m\n\u001B[32m    564\u001B[39m \u001B[38;5;66;03m# Get the response from http.client.HTTPConnection\u001B[39;00m\n\u001B[32m--> \u001B[39m\u001B[32m565\u001B[39m httplib_response = \u001B[38;5;28;43msuper\u001B[39;49m\u001B[43m(\u001B[49m\u001B[43m)\u001B[49m\u001B[43m.\u001B[49m\u001B[43mgetresponse\u001B[49m\u001B[43m(\u001B[49m\u001B[43m)\u001B[49m\n\u001B[32m    567\u001B[39m \u001B[38;5;28;01mtry\u001B[39;00m:\n",
      "\u001B[36mFile \u001B[39m\u001B[32m/Library/Frameworks/Python.framework/Versions/3.11/lib/python3.11/http/client.py:1378\u001B[39m, in \u001B[36mHTTPConnection.getresponse\u001B[39m\u001B[34m(self)\u001B[39m\n\u001B[32m   1377\u001B[39m \u001B[38;5;28;01mtry\u001B[39;00m:\n\u001B[32m-> \u001B[39m\u001B[32m1378\u001B[39m     \u001B[43mresponse\u001B[49m\u001B[43m.\u001B[49m\u001B[43mbegin\u001B[49m\u001B[43m(\u001B[49m\u001B[43m)\u001B[49m\n\u001B[32m   1379\u001B[39m \u001B[38;5;28;01mexcept\u001B[39;00m \u001B[38;5;167;01mConnectionError\u001B[39;00m:\n",
      "\u001B[36mFile \u001B[39m\u001B[32m/Library/Frameworks/Python.framework/Versions/3.11/lib/python3.11/http/client.py:318\u001B[39m, in \u001B[36mHTTPResponse.begin\u001B[39m\u001B[34m(self)\u001B[39m\n\u001B[32m    317\u001B[39m \u001B[38;5;28;01mwhile\u001B[39;00m \u001B[38;5;28;01mTrue\u001B[39;00m:\n\u001B[32m--> \u001B[39m\u001B[32m318\u001B[39m     version, status, reason = \u001B[38;5;28;43mself\u001B[39;49m\u001B[43m.\u001B[49m\u001B[43m_read_status\u001B[49m\u001B[43m(\u001B[49m\u001B[43m)\u001B[49m\n\u001B[32m    319\u001B[39m     \u001B[38;5;28;01mif\u001B[39;00m status != CONTINUE:\n",
      "\u001B[36mFile \u001B[39m\u001B[32m/Library/Frameworks/Python.framework/Versions/3.11/lib/python3.11/http/client.py:300\u001B[39m, in \u001B[36mHTTPResponse._read_status\u001B[39m\u001B[34m(self)\u001B[39m\n\u001B[32m    299\u001B[39m     \u001B[38;5;28mself\u001B[39m._close_conn()\n\u001B[32m--> \u001B[39m\u001B[32m300\u001B[39m     \u001B[38;5;28;01mraise\u001B[39;00m BadStatusLine(line)\n\u001B[32m    302\u001B[39m \u001B[38;5;66;03m# The status code is a three-digit number\u001B[39;00m\n",
      "\u001B[31mBadStatusLine\u001B[39m: GET /3/Jobs/$03017f00000132d4ffffffff$_a93093564cfa5965ff10bfaa59a64f38 HTTP/1.1\r\n",
      "\nDuring handling of the above exception, another exception occurred:\n",
      "\u001B[31mProtocolError\u001B[39m                             Traceback (most recent call last)",
      "\u001B[36mFile \u001B[39m\u001B[32m~/PycharmProjects/FactoryRL/.venv/lib/python3.11/site-packages/requests/adapters.py:667\u001B[39m, in \u001B[36mHTTPAdapter.send\u001B[39m\u001B[34m(self, request, stream, timeout, verify, cert, proxies)\u001B[39m\n\u001B[32m    666\u001B[39m \u001B[38;5;28;01mtry\u001B[39;00m:\n\u001B[32m--> \u001B[39m\u001B[32m667\u001B[39m     resp = \u001B[43mconn\u001B[49m\u001B[43m.\u001B[49m\u001B[43murlopen\u001B[49m\u001B[43m(\u001B[49m\n\u001B[32m    668\u001B[39m \u001B[43m        \u001B[49m\u001B[43mmethod\u001B[49m\u001B[43m=\u001B[49m\u001B[43mrequest\u001B[49m\u001B[43m.\u001B[49m\u001B[43mmethod\u001B[49m\u001B[43m,\u001B[49m\n\u001B[32m    669\u001B[39m \u001B[43m        \u001B[49m\u001B[43murl\u001B[49m\u001B[43m=\u001B[49m\u001B[43murl\u001B[49m\u001B[43m,\u001B[49m\n\u001B[32m    670\u001B[39m \u001B[43m        \u001B[49m\u001B[43mbody\u001B[49m\u001B[43m=\u001B[49m\u001B[43mrequest\u001B[49m\u001B[43m.\u001B[49m\u001B[43mbody\u001B[49m\u001B[43m,\u001B[49m\n\u001B[32m    671\u001B[39m \u001B[43m        \u001B[49m\u001B[43mheaders\u001B[49m\u001B[43m=\u001B[49m\u001B[43mrequest\u001B[49m\u001B[43m.\u001B[49m\u001B[43mheaders\u001B[49m\u001B[43m,\u001B[49m\n\u001B[32m    672\u001B[39m \u001B[43m        \u001B[49m\u001B[43mredirect\u001B[49m\u001B[43m=\u001B[49m\u001B[38;5;28;43;01mFalse\u001B[39;49;00m\u001B[43m,\u001B[49m\n\u001B[32m    673\u001B[39m \u001B[43m        \u001B[49m\u001B[43massert_same_host\u001B[49m\u001B[43m=\u001B[49m\u001B[38;5;28;43;01mFalse\u001B[39;49;00m\u001B[43m,\u001B[49m\n\u001B[32m    674\u001B[39m \u001B[43m        \u001B[49m\u001B[43mpreload_content\u001B[49m\u001B[43m=\u001B[49m\u001B[38;5;28;43;01mFalse\u001B[39;49;00m\u001B[43m,\u001B[49m\n\u001B[32m    675\u001B[39m \u001B[43m        \u001B[49m\u001B[43mdecode_content\u001B[49m\u001B[43m=\u001B[49m\u001B[38;5;28;43;01mFalse\u001B[39;49;00m\u001B[43m,\u001B[49m\n\u001B[32m    676\u001B[39m \u001B[43m        \u001B[49m\u001B[43mretries\u001B[49m\u001B[43m=\u001B[49m\u001B[38;5;28;43mself\u001B[39;49m\u001B[43m.\u001B[49m\u001B[43mmax_retries\u001B[49m\u001B[43m,\u001B[49m\n\u001B[32m    677\u001B[39m \u001B[43m        \u001B[49m\u001B[43mtimeout\u001B[49m\u001B[43m=\u001B[49m\u001B[43mtimeout\u001B[49m\u001B[43m,\u001B[49m\n\u001B[32m    678\u001B[39m \u001B[43m        \u001B[49m\u001B[43mchunked\u001B[49m\u001B[43m=\u001B[49m\u001B[43mchunked\u001B[49m\u001B[43m,\u001B[49m\n\u001B[32m    679\u001B[39m \u001B[43m    \u001B[49m\u001B[43m)\u001B[49m\n\u001B[32m    681\u001B[39m \u001B[38;5;28;01mexcept\u001B[39;00m (ProtocolError, \u001B[38;5;167;01mOSError\u001B[39;00m) \u001B[38;5;28;01mas\u001B[39;00m err:\n",
      "\u001B[36mFile \u001B[39m\u001B[32m~/PycharmProjects/FactoryRL/.venv/lib/python3.11/site-packages/urllib3/connectionpool.py:841\u001B[39m, in \u001B[36mHTTPConnectionPool.urlopen\u001B[39m\u001B[34m(self, method, url, body, headers, retries, redirect, assert_same_host, timeout, pool_timeout, release_conn, chunked, body_pos, preload_content, decode_content, **response_kw)\u001B[39m\n\u001B[32m    839\u001B[39m     new_e = ProtocolError(\u001B[33m\"\u001B[39m\u001B[33mConnection aborted.\u001B[39m\u001B[33m\"\u001B[39m, new_e)\n\u001B[32m--> \u001B[39m\u001B[32m841\u001B[39m retries = \u001B[43mretries\u001B[49m\u001B[43m.\u001B[49m\u001B[43mincrement\u001B[49m\u001B[43m(\u001B[49m\n\u001B[32m    842\u001B[39m \u001B[43m    \u001B[49m\u001B[43mmethod\u001B[49m\u001B[43m,\u001B[49m\u001B[43m \u001B[49m\u001B[43murl\u001B[49m\u001B[43m,\u001B[49m\u001B[43m \u001B[49m\u001B[43merror\u001B[49m\u001B[43m=\u001B[49m\u001B[43mnew_e\u001B[49m\u001B[43m,\u001B[49m\u001B[43m \u001B[49m\u001B[43m_pool\u001B[49m\u001B[43m=\u001B[49m\u001B[38;5;28;43mself\u001B[39;49m\u001B[43m,\u001B[49m\u001B[43m \u001B[49m\u001B[43m_stacktrace\u001B[49m\u001B[43m=\u001B[49m\u001B[43msys\u001B[49m\u001B[43m.\u001B[49m\u001B[43mexc_info\u001B[49m\u001B[43m(\u001B[49m\u001B[43m)\u001B[49m\u001B[43m[\u001B[49m\u001B[32;43m2\u001B[39;49m\u001B[43m]\u001B[49m\n\u001B[32m    843\u001B[39m \u001B[43m\u001B[49m\u001B[43m)\u001B[49m\n\u001B[32m    844\u001B[39m retries.sleep()\n",
      "\u001B[36mFile \u001B[39m\u001B[32m~/PycharmProjects/FactoryRL/.venv/lib/python3.11/site-packages/urllib3/util/retry.py:474\u001B[39m, in \u001B[36mRetry.increment\u001B[39m\u001B[34m(self, method, url, response, error, _pool, _stacktrace)\u001B[39m\n\u001B[32m    473\u001B[39m \u001B[38;5;28;01mif\u001B[39;00m read \u001B[38;5;129;01mis\u001B[39;00m \u001B[38;5;28;01mFalse\u001B[39;00m \u001B[38;5;129;01mor\u001B[39;00m method \u001B[38;5;129;01mis\u001B[39;00m \u001B[38;5;28;01mNone\u001B[39;00m \u001B[38;5;129;01mor\u001B[39;00m \u001B[38;5;129;01mnot\u001B[39;00m \u001B[38;5;28mself\u001B[39m._is_method_retryable(method):\n\u001B[32m--> \u001B[39m\u001B[32m474\u001B[39m     \u001B[38;5;28;01mraise\u001B[39;00m \u001B[43mreraise\u001B[49m\u001B[43m(\u001B[49m\u001B[38;5;28;43mtype\u001B[39;49m\u001B[43m(\u001B[49m\u001B[43merror\u001B[49m\u001B[43m)\u001B[49m\u001B[43m,\u001B[49m\u001B[43m \u001B[49m\u001B[43merror\u001B[49m\u001B[43m,\u001B[49m\u001B[43m \u001B[49m\u001B[43m_stacktrace\u001B[49m\u001B[43m)\u001B[49m\n\u001B[32m    475\u001B[39m \u001B[38;5;28;01melif\u001B[39;00m read \u001B[38;5;129;01mis\u001B[39;00m \u001B[38;5;129;01mnot\u001B[39;00m \u001B[38;5;28;01mNone\u001B[39;00m:\n",
      "\u001B[36mFile \u001B[39m\u001B[32m~/PycharmProjects/FactoryRL/.venv/lib/python3.11/site-packages/urllib3/util/util.py:38\u001B[39m, in \u001B[36mreraise\u001B[39m\u001B[34m(tp, value, tb)\u001B[39m\n\u001B[32m     37\u001B[39m \u001B[38;5;28;01mif\u001B[39;00m value.__traceback__ \u001B[38;5;129;01mis\u001B[39;00m \u001B[38;5;129;01mnot\u001B[39;00m tb:\n\u001B[32m---> \u001B[39m\u001B[32m38\u001B[39m     \u001B[38;5;28;01mraise\u001B[39;00m value.with_traceback(tb)\n\u001B[32m     39\u001B[39m \u001B[38;5;28;01mraise\u001B[39;00m value\n",
      "\u001B[36mFile \u001B[39m\u001B[32m~/PycharmProjects/FactoryRL/.venv/lib/python3.11/site-packages/urllib3/connectionpool.py:787\u001B[39m, in \u001B[36mHTTPConnectionPool.urlopen\u001B[39m\u001B[34m(self, method, url, body, headers, retries, redirect, assert_same_host, timeout, pool_timeout, release_conn, chunked, body_pos, preload_content, decode_content, **response_kw)\u001B[39m\n\u001B[32m    786\u001B[39m \u001B[38;5;66;03m# Make the request on the HTTPConnection object\u001B[39;00m\n\u001B[32m--> \u001B[39m\u001B[32m787\u001B[39m response = \u001B[38;5;28;43mself\u001B[39;49m\u001B[43m.\u001B[49m\u001B[43m_make_request\u001B[49m\u001B[43m(\u001B[49m\n\u001B[32m    788\u001B[39m \u001B[43m    \u001B[49m\u001B[43mconn\u001B[49m\u001B[43m,\u001B[49m\n\u001B[32m    789\u001B[39m \u001B[43m    \u001B[49m\u001B[43mmethod\u001B[49m\u001B[43m,\u001B[49m\n\u001B[32m    790\u001B[39m \u001B[43m    \u001B[49m\u001B[43murl\u001B[49m\u001B[43m,\u001B[49m\n\u001B[32m    791\u001B[39m \u001B[43m    \u001B[49m\u001B[43mtimeout\u001B[49m\u001B[43m=\u001B[49m\u001B[43mtimeout_obj\u001B[49m\u001B[43m,\u001B[49m\n\u001B[32m    792\u001B[39m \u001B[43m    \u001B[49m\u001B[43mbody\u001B[49m\u001B[43m=\u001B[49m\u001B[43mbody\u001B[49m\u001B[43m,\u001B[49m\n\u001B[32m    793\u001B[39m \u001B[43m    \u001B[49m\u001B[43mheaders\u001B[49m\u001B[43m=\u001B[49m\u001B[43mheaders\u001B[49m\u001B[43m,\u001B[49m\n\u001B[32m    794\u001B[39m \u001B[43m    \u001B[49m\u001B[43mchunked\u001B[49m\u001B[43m=\u001B[49m\u001B[43mchunked\u001B[49m\u001B[43m,\u001B[49m\n\u001B[32m    795\u001B[39m \u001B[43m    \u001B[49m\u001B[43mretries\u001B[49m\u001B[43m=\u001B[49m\u001B[43mretries\u001B[49m\u001B[43m,\u001B[49m\n\u001B[32m    796\u001B[39m \u001B[43m    \u001B[49m\u001B[43mresponse_conn\u001B[49m\u001B[43m=\u001B[49m\u001B[43mresponse_conn\u001B[49m\u001B[43m,\u001B[49m\n\u001B[32m    797\u001B[39m \u001B[43m    \u001B[49m\u001B[43mpreload_content\u001B[49m\u001B[43m=\u001B[49m\u001B[43mpreload_content\u001B[49m\u001B[43m,\u001B[49m\n\u001B[32m    798\u001B[39m \u001B[43m    \u001B[49m\u001B[43mdecode_content\u001B[49m\u001B[43m=\u001B[49m\u001B[43mdecode_content\u001B[49m\u001B[43m,\u001B[49m\n\u001B[32m    799\u001B[39m \u001B[43m    \u001B[49m\u001B[43m*\u001B[49m\u001B[43m*\u001B[49m\u001B[43mresponse_kw\u001B[49m\u001B[43m,\u001B[49m\n\u001B[32m    800\u001B[39m \u001B[43m\u001B[49m\u001B[43m)\u001B[49m\n\u001B[32m    802\u001B[39m \u001B[38;5;66;03m# Everything went great!\u001B[39;00m\n",
      "\u001B[36mFile \u001B[39m\u001B[32m~/PycharmProjects/FactoryRL/.venv/lib/python3.11/site-packages/urllib3/connectionpool.py:534\u001B[39m, in \u001B[36mHTTPConnectionPool._make_request\u001B[39m\u001B[34m(self, conn, method, url, body, headers, retries, timeout, chunked, response_conn, preload_content, decode_content, enforce_content_length)\u001B[39m\n\u001B[32m    533\u001B[39m \u001B[38;5;28;01mtry\u001B[39;00m:\n\u001B[32m--> \u001B[39m\u001B[32m534\u001B[39m     response = \u001B[43mconn\u001B[49m\u001B[43m.\u001B[49m\u001B[43mgetresponse\u001B[49m\u001B[43m(\u001B[49m\u001B[43m)\u001B[49m\n\u001B[32m    535\u001B[39m \u001B[38;5;28;01mexcept\u001B[39;00m (BaseSSLError, \u001B[38;5;167;01mOSError\u001B[39;00m) \u001B[38;5;28;01mas\u001B[39;00m e:\n",
      "\u001B[36mFile \u001B[39m\u001B[32m~/PycharmProjects/FactoryRL/.venv/lib/python3.11/site-packages/urllib3/connection.py:565\u001B[39m, in \u001B[36mHTTPConnection.getresponse\u001B[39m\u001B[34m(self)\u001B[39m\n\u001B[32m    564\u001B[39m \u001B[38;5;66;03m# Get the response from http.client.HTTPConnection\u001B[39;00m\n\u001B[32m--> \u001B[39m\u001B[32m565\u001B[39m httplib_response = \u001B[38;5;28;43msuper\u001B[39;49m\u001B[43m(\u001B[49m\u001B[43m)\u001B[49m\u001B[43m.\u001B[49m\u001B[43mgetresponse\u001B[49m\u001B[43m(\u001B[49m\u001B[43m)\u001B[49m\n\u001B[32m    567\u001B[39m \u001B[38;5;28;01mtry\u001B[39;00m:\n",
      "\u001B[36mFile \u001B[39m\u001B[32m/Library/Frameworks/Python.framework/Versions/3.11/lib/python3.11/http/client.py:1378\u001B[39m, in \u001B[36mHTTPConnection.getresponse\u001B[39m\u001B[34m(self)\u001B[39m\n\u001B[32m   1377\u001B[39m \u001B[38;5;28;01mtry\u001B[39;00m:\n\u001B[32m-> \u001B[39m\u001B[32m1378\u001B[39m     \u001B[43mresponse\u001B[49m\u001B[43m.\u001B[49m\u001B[43mbegin\u001B[49m\u001B[43m(\u001B[49m\u001B[43m)\u001B[49m\n\u001B[32m   1379\u001B[39m \u001B[38;5;28;01mexcept\u001B[39;00m \u001B[38;5;167;01mConnectionError\u001B[39;00m:\n",
      "\u001B[36mFile \u001B[39m\u001B[32m/Library/Frameworks/Python.framework/Versions/3.11/lib/python3.11/http/client.py:318\u001B[39m, in \u001B[36mHTTPResponse.begin\u001B[39m\u001B[34m(self)\u001B[39m\n\u001B[32m    317\u001B[39m \u001B[38;5;28;01mwhile\u001B[39;00m \u001B[38;5;28;01mTrue\u001B[39;00m:\n\u001B[32m--> \u001B[39m\u001B[32m318\u001B[39m     version, status, reason = \u001B[38;5;28;43mself\u001B[39;49m\u001B[43m.\u001B[49m\u001B[43m_read_status\u001B[49m\u001B[43m(\u001B[49m\u001B[43m)\u001B[49m\n\u001B[32m    319\u001B[39m     \u001B[38;5;28;01mif\u001B[39;00m status != CONTINUE:\n",
      "\u001B[36mFile \u001B[39m\u001B[32m/Library/Frameworks/Python.framework/Versions/3.11/lib/python3.11/http/client.py:300\u001B[39m, in \u001B[36mHTTPResponse._read_status\u001B[39m\u001B[34m(self)\u001B[39m\n\u001B[32m    299\u001B[39m     \u001B[38;5;28mself\u001B[39m._close_conn()\n\u001B[32m--> \u001B[39m\u001B[32m300\u001B[39m     \u001B[38;5;28;01mraise\u001B[39;00m BadStatusLine(line)\n\u001B[32m    302\u001B[39m \u001B[38;5;66;03m# The status code is a three-digit number\u001B[39;00m\n",
      "\u001B[31mProtocolError\u001B[39m: ('Connection aborted.', BadStatusLine('GET /3/Jobs/$03017f00000132d4ffffffff$_a93093564cfa5965ff10bfaa59a64f38 HTTP/1.1\\r\\n'))",
      "\nDuring handling of the above exception, another exception occurred:\n",
      "\u001B[31mConnectionError\u001B[39m                           Traceback (most recent call last)",
      "\u001B[36mFile \u001B[39m\u001B[32m~/PycharmProjects/FactoryRL/.venv/lib/python3.11/site-packages/h2o/backend/connection.py:494\u001B[39m, in \u001B[36mH2OConnection.request\u001B[39m\u001B[34m(self, endpoint, data, json, filename, save_to)\u001B[39m\n\u001B[32m    493\u001B[39m args = \u001B[38;5;28mself\u001B[39m._request_args()\n\u001B[32m--> \u001B[39m\u001B[32m494\u001B[39m resp = \u001B[43mrequests\u001B[49m\u001B[43m.\u001B[49m\u001B[43mrequest\u001B[49m\u001B[43m(\u001B[49m\u001B[43mmethod\u001B[49m\u001B[43m=\u001B[49m\u001B[43mmethod\u001B[49m\u001B[43m,\u001B[49m\u001B[43m \u001B[49m\u001B[43murl\u001B[49m\u001B[43m=\u001B[49m\u001B[43murl\u001B[49m\u001B[43m,\u001B[49m\u001B[43m \u001B[49m\u001B[43mdata\u001B[49m\u001B[43m=\u001B[49m\u001B[43mrd\u001B[49m\u001B[43m,\u001B[49m\u001B[43m \u001B[49m\u001B[43mjson\u001B[49m\u001B[43m=\u001B[49m\u001B[43mjson\u001B[49m\u001B[43m,\u001B[49m\u001B[43m \u001B[49m\u001B[43mparams\u001B[49m\u001B[43m=\u001B[49m\u001B[43mparams\u001B[49m\u001B[43m,\u001B[49m\n\u001B[32m    495\u001B[39m \u001B[43m                        \u001B[49m\u001B[43mstream\u001B[49m\u001B[43m=\u001B[49m\u001B[43mstream\u001B[49m\u001B[43m,\u001B[49m\u001B[43m \u001B[49m\u001B[43m*\u001B[49m\u001B[43m*\u001B[49m\u001B[43margs\u001B[49m\u001B[43m)\u001B[49m\n\u001B[32m    496\u001B[39m \u001B[38;5;28;01mif\u001B[39;00m \u001B[38;5;28misinstance\u001B[39m(save_to, types.FunctionType):\n",
      "\u001B[36mFile \u001B[39m\u001B[32m~/PycharmProjects/FactoryRL/.venv/lib/python3.11/site-packages/requests/api.py:59\u001B[39m, in \u001B[36mrequest\u001B[39m\u001B[34m(method, url, **kwargs)\u001B[39m\n\u001B[32m     58\u001B[39m \u001B[38;5;28;01mwith\u001B[39;00m sessions.Session() \u001B[38;5;28;01mas\u001B[39;00m session:\n\u001B[32m---> \u001B[39m\u001B[32m59\u001B[39m     \u001B[38;5;28;01mreturn\u001B[39;00m \u001B[43msession\u001B[49m\u001B[43m.\u001B[49m\u001B[43mrequest\u001B[49m\u001B[43m(\u001B[49m\u001B[43mmethod\u001B[49m\u001B[43m=\u001B[49m\u001B[43mmethod\u001B[49m\u001B[43m,\u001B[49m\u001B[43m \u001B[49m\u001B[43murl\u001B[49m\u001B[43m=\u001B[49m\u001B[43murl\u001B[49m\u001B[43m,\u001B[49m\u001B[43m \u001B[49m\u001B[43m*\u001B[49m\u001B[43m*\u001B[49m\u001B[43mkwargs\u001B[49m\u001B[43m)\u001B[49m\n",
      "\u001B[36mFile \u001B[39m\u001B[32m~/PycharmProjects/FactoryRL/.venv/lib/python3.11/site-packages/requests/sessions.py:589\u001B[39m, in \u001B[36mSession.request\u001B[39m\u001B[34m(self, method, url, params, data, headers, cookies, files, auth, timeout, allow_redirects, proxies, hooks, stream, verify, cert, json)\u001B[39m\n\u001B[32m    588\u001B[39m send_kwargs.update(settings)\n\u001B[32m--> \u001B[39m\u001B[32m589\u001B[39m resp = \u001B[38;5;28;43mself\u001B[39;49m\u001B[43m.\u001B[49m\u001B[43msend\u001B[49m\u001B[43m(\u001B[49m\u001B[43mprep\u001B[49m\u001B[43m,\u001B[49m\u001B[43m \u001B[49m\u001B[43m*\u001B[49m\u001B[43m*\u001B[49m\u001B[43msend_kwargs\u001B[49m\u001B[43m)\u001B[49m\n\u001B[32m    591\u001B[39m \u001B[38;5;28;01mreturn\u001B[39;00m resp\n",
      "\u001B[36mFile \u001B[39m\u001B[32m~/PycharmProjects/FactoryRL/.venv/lib/python3.11/site-packages/requests/sessions.py:703\u001B[39m, in \u001B[36mSession.send\u001B[39m\u001B[34m(self, request, **kwargs)\u001B[39m\n\u001B[32m    702\u001B[39m \u001B[38;5;66;03m# Send the request\u001B[39;00m\n\u001B[32m--> \u001B[39m\u001B[32m703\u001B[39m r = \u001B[43madapter\u001B[49m\u001B[43m.\u001B[49m\u001B[43msend\u001B[49m\u001B[43m(\u001B[49m\u001B[43mrequest\u001B[49m\u001B[43m,\u001B[49m\u001B[43m \u001B[49m\u001B[43m*\u001B[49m\u001B[43m*\u001B[49m\u001B[43mkwargs\u001B[49m\u001B[43m)\u001B[49m\n\u001B[32m    705\u001B[39m \u001B[38;5;66;03m# Total elapsed time of the request (approximately)\u001B[39;00m\n",
      "\u001B[36mFile \u001B[39m\u001B[32m~/PycharmProjects/FactoryRL/.venv/lib/python3.11/site-packages/requests/adapters.py:682\u001B[39m, in \u001B[36mHTTPAdapter.send\u001B[39m\u001B[34m(self, request, stream, timeout, verify, cert, proxies)\u001B[39m\n\u001B[32m    681\u001B[39m \u001B[38;5;28;01mexcept\u001B[39;00m (ProtocolError, \u001B[38;5;167;01mOSError\u001B[39;00m) \u001B[38;5;28;01mas\u001B[39;00m err:\n\u001B[32m--> \u001B[39m\u001B[32m682\u001B[39m     \u001B[38;5;28;01mraise\u001B[39;00m \u001B[38;5;167;01mConnectionError\u001B[39;00m(err, request=request)\n\u001B[32m    684\u001B[39m \u001B[38;5;28;01mexcept\u001B[39;00m MaxRetryError \u001B[38;5;28;01mas\u001B[39;00m e:\n",
      "\u001B[31mConnectionError\u001B[39m: ('Connection aborted.', BadStatusLine('GET /3/Jobs/$03017f00000132d4ffffffff$_a93093564cfa5965ff10bfaa59a64f38 HTTP/1.1\\r\\n'))",
      "\nDuring handling of the above exception, another exception occurred:\n",
      "\u001B[31mH2OConnectionError\u001B[39m                        Traceback (most recent call last)",
      "\u001B[36mCell\u001B[39m\u001B[36m \u001B[39m\u001B[32mIn[57]\u001B[39m\u001B[32m, line 21\u001B[39m\n\u001B[32m     19\u001B[39m action = select_action(state,mask)\n\u001B[32m     20\u001B[39m \u001B[38;5;66;03m# take the action\u001B[39;00m\n\u001B[32m---> \u001B[39m\u001B[32m21\u001B[39m state, reward,mask, done,_ = \u001B[43menv\u001B[49m\u001B[43m.\u001B[49m\u001B[43mstep\u001B[49m\u001B[43m(\u001B[49m\u001B[43maction\u001B[49m\u001B[43m)\u001B[49m\n\u001B[32m     22\u001B[39m saved_actions.append(action)\n\u001B[32m     23\u001B[39m \u001B[38;5;66;03m#print(env.times)\u001B[39;00m\n\u001B[32m     24\u001B[39m \u001B[38;5;66;03m#history = history.append(env.current_state_pandas.tail(1))\u001B[39;00m\n",
      "\u001B[36mCell\u001B[39m\u001B[36m \u001B[39m\u001B[32mIn[49]\u001B[39m\u001B[32m, line 27\u001B[39m, in \u001B[36mInjecttionEnv.step\u001B[39m\u001B[34m(self, action)\u001B[39m\n\u001B[32m     25\u001B[39m \u001B[38;5;28;01mfor\u001B[39;00m c \u001B[38;5;129;01min\u001B[39;00m X_features:\n\u001B[32m     26\u001B[39m   X[c] = label_enc[c].transform(X[[c]])\n\u001B[32m---> \u001B[39m\u001B[32m27\u001B[39m X = \u001B[43mh2o\u001B[49m\u001B[43m.\u001B[49m\u001B[43mH2OFrame\u001B[49m\u001B[43m(\u001B[49m\u001B[43mX\u001B[49m\u001B[43m)\u001B[49m\n\u001B[32m     28\u001B[39m \u001B[38;5;28;01mfor\u001B[39;00m c \u001B[38;5;129;01min\u001B[39;00m X_features:\n\u001B[32m     29\u001B[39m   X[c] = X[c].asfactor()\n",
      "\u001B[36mFile \u001B[39m\u001B[32m~/PycharmProjects/FactoryRL/.venv/lib/python3.11/site-packages/h2o/frame.py:120\u001B[39m, in \u001B[36mH2OFrame.__init__\u001B[39m\u001B[34m(self, python_obj, destination_frame, header, separator, column_names, column_types, na_strings, skipped_columns, force_col_types)\u001B[39m\n\u001B[32m    118\u001B[39m \u001B[38;5;28mself\u001B[39m._ex._children = \u001B[38;5;28;01mNone\u001B[39;00m\n\u001B[32m    119\u001B[39m \u001B[38;5;28;01mif\u001B[39;00m python_obj \u001B[38;5;129;01mis\u001B[39;00m \u001B[38;5;129;01mnot\u001B[39;00m \u001B[38;5;28;01mNone\u001B[39;00m:\n\u001B[32m--> \u001B[39m\u001B[32m120\u001B[39m     \u001B[38;5;28;43mself\u001B[39;49m\u001B[43m.\u001B[49m\u001B[43m_upload_python_object\u001B[49m\u001B[43m(\u001B[49m\u001B[43mpython_obj\u001B[49m\u001B[43m,\u001B[49m\u001B[43m \u001B[49m\u001B[43mdestination_frame\u001B[49m\u001B[43m,\u001B[49m\u001B[43m \u001B[49m\u001B[43mheader\u001B[49m\u001B[43m,\u001B[49m\u001B[43m \u001B[49m\u001B[43mseparator\u001B[49m\u001B[43m,\u001B[49m\n\u001B[32m    121\u001B[39m \u001B[43m                               \u001B[49m\u001B[43mcolumn_names\u001B[49m\u001B[43m,\u001B[49m\u001B[43m \u001B[49m\u001B[43mcolumn_types\u001B[49m\u001B[43m,\u001B[49m\u001B[43m \u001B[49m\u001B[43mna_strings\u001B[49m\u001B[43m,\u001B[49m\u001B[43m \u001B[49m\u001B[43mskipped_columns\u001B[49m\u001B[43m,\u001B[49m\u001B[43m \u001B[49m\u001B[43mforce_col_types\u001B[49m\u001B[43m)\u001B[49m\n",
      "\u001B[36mFile \u001B[39m\u001B[32m~/PycharmProjects/FactoryRL/.venv/lib/python3.11/site-packages/h2o/frame.py:161\u001B[39m, in \u001B[36mH2OFrame._upload_python_object\u001B[39m\u001B[34m(self, python_obj, destination_frame, header, separator, column_names, column_types, na_strings, skipped_columns, force_col_types)\u001B[39m\n\u001B[32m    159\u001B[39m     csv_writer.writerows(data_to_write)\n\u001B[32m    160\u001B[39m tmp_file.close()  \u001B[38;5;66;03m# close the streams\u001B[39;00m\n\u001B[32m--> \u001B[39m\u001B[32m161\u001B[39m \u001B[38;5;28;43mself\u001B[39;49m\u001B[43m.\u001B[49m\u001B[43m_upload_parse\u001B[49m\u001B[43m(\u001B[49m\u001B[43mtmp_path\u001B[49m\u001B[43m,\u001B[49m\u001B[43m \u001B[49m\u001B[43mdestination_frame\u001B[49m\u001B[43m,\u001B[49m\u001B[43m \u001B[49m\u001B[32;43m1\u001B[39;49m\u001B[43m,\u001B[49m\u001B[43m \u001B[49m\u001B[43mseparator\u001B[49m\u001B[43m,\u001B[49m\u001B[43m \u001B[49m\u001B[43mcolumn_names\u001B[49m\u001B[43m,\u001B[49m\u001B[43m \u001B[49m\u001B[43mcolumn_types\u001B[49m\u001B[43m,\u001B[49m\u001B[43m \u001B[49m\u001B[43mna_strings\u001B[49m\u001B[43m,\u001B[49m\n\u001B[32m    162\u001B[39m \u001B[43m                   \u001B[49m\u001B[43mskipped_columns\u001B[49m\u001B[43m,\u001B[49m\u001B[43m \u001B[49m\u001B[43mforce_col_types\u001B[49m\u001B[43m)\u001B[49m\n\u001B[32m    163\u001B[39m os.remove(tmp_path)\n",
      "\u001B[36mFile \u001B[39m\u001B[32m~/PycharmProjects/FactoryRL/.venv/lib/python3.11/site-packages/h2o/frame.py:468\u001B[39m, in \u001B[36mH2OFrame._upload_parse\u001B[39m\u001B[34m(self, path, destination_frame, header, sep, column_names, column_types, na_strings, skipped_columns, force_col_types, quotechar, escapechar)\u001B[39m\n\u001B[32m    466\u001B[39m ret = h2o.api(\u001B[33m\"\u001B[39m\u001B[33mPOST /3/PostFile\u001B[39m\u001B[33m\"\u001B[39m, filename=path)\n\u001B[32m    467\u001B[39m rawkey = ret[\u001B[33m\"\u001B[39m\u001B[33mdestination_frame\u001B[39m\u001B[33m\"\u001B[39m]\n\u001B[32m--> \u001B[39m\u001B[32m468\u001B[39m \u001B[38;5;28;43mself\u001B[39;49m\u001B[43m.\u001B[49m\u001B[43m_parse\u001B[49m\u001B[43m(\u001B[49m\u001B[43mrawkey\u001B[49m\u001B[43m,\u001B[49m\u001B[43m \u001B[49m\u001B[43mdestination_frame\u001B[49m\u001B[43m,\u001B[49m\u001B[43m \u001B[49m\u001B[43mheader\u001B[49m\u001B[43m,\u001B[49m\u001B[43m \u001B[49m\u001B[43msep\u001B[49m\u001B[43m,\u001B[49m\u001B[43m \u001B[49m\u001B[43mcolumn_names\u001B[49m\u001B[43m,\u001B[49m\u001B[43m \u001B[49m\u001B[43mcolumn_types\u001B[49m\u001B[43m,\u001B[49m\u001B[43m \u001B[49m\u001B[43mna_strings\u001B[49m\u001B[43m,\u001B[49m\u001B[43m \u001B[49m\u001B[43mskipped_columns\u001B[49m\u001B[43m,\u001B[49m\n\u001B[32m    469\u001B[39m \u001B[43m            \u001B[49m\u001B[43mforce_col_types\u001B[49m\u001B[43m,\u001B[49m\u001B[43m \u001B[49m\u001B[43mquotechar\u001B[49m\u001B[43m=\u001B[49m\u001B[43mquotechar\u001B[49m\u001B[43m,\u001B[49m\u001B[43m \u001B[49m\u001B[43mescapechar\u001B[49m\u001B[43m=\u001B[49m\u001B[43mescapechar\u001B[49m\u001B[43m)\u001B[49m\n\u001B[32m    470\u001B[39m \u001B[38;5;28;01mreturn\u001B[39;00m \u001B[38;5;28mself\u001B[39m\n",
      "\u001B[36mFile \u001B[39m\u001B[32m~/PycharmProjects/FactoryRL/.venv/lib/python3.11/site-packages/h2o/frame.py:477\u001B[39m, in \u001B[36mH2OFrame._parse\u001B[39m\u001B[34m(self, rawkey, destination_frame, header, separator, column_names, column_types, na_strings, skipped_columns, force_col_types, custom_non_data_line_markers, partition_by, quotechar, escapechar, tz_adjust_to_local)\u001B[39m\n\u001B[32m    472\u001B[39m \u001B[38;5;28;01mdef\u001B[39;00m\u001B[38;5;250m \u001B[39m\u001B[34m_parse\u001B[39m(\u001B[38;5;28mself\u001B[39m, rawkey, destination_frame=\u001B[33m\"\u001B[39m\u001B[33m\"\u001B[39m, header=\u001B[38;5;28;01mNone\u001B[39;00m, separator=\u001B[38;5;28;01mNone\u001B[39;00m, column_names=\u001B[38;5;28;01mNone\u001B[39;00m, column_types=\u001B[38;5;28;01mNone\u001B[39;00m,\n\u001B[32m    473\u001B[39m            na_strings=\u001B[38;5;28;01mNone\u001B[39;00m, skipped_columns=\u001B[38;5;28;01mNone\u001B[39;00m, force_col_types=\u001B[38;5;28;01mFalse\u001B[39;00m, custom_non_data_line_markers=\u001B[38;5;28;01mNone\u001B[39;00m, partition_by=\u001B[38;5;28;01mNone\u001B[39;00m, quotechar=\u001B[38;5;28;01mNone\u001B[39;00m,\n\u001B[32m    474\u001B[39m            escapechar=\u001B[38;5;28;01mNone\u001B[39;00m, tz_adjust_to_local=\u001B[38;5;28;01mFalse\u001B[39;00m):\n\u001B[32m    475\u001B[39m     setup = h2o.parse_setup(rawkey, destination_frame, header, separator, column_names, column_types, na_strings,\n\u001B[32m    476\u001B[39m                             skipped_columns, force_col_types, custom_non_data_line_markers, partition_by, quotechar, escapechar, tz_adjust_to_local)\n\u001B[32m--> \u001B[39m\u001B[32m477\u001B[39m     \u001B[38;5;28;01mreturn\u001B[39;00m \u001B[38;5;28;43mself\u001B[39;49m\u001B[43m.\u001B[49m\u001B[43m_parse_raw\u001B[49m\u001B[43m(\u001B[49m\u001B[43msetup\u001B[49m\u001B[43m)\u001B[49m\n",
      "\u001B[36mFile \u001B[39m\u001B[32m~/PycharmProjects/FactoryRL/.venv/lib/python3.11/site-packages/h2o/frame.py:507\u001B[39m, in \u001B[36mH2OFrame._parse_raw\u001B[39m\u001B[34m(self, setup)\u001B[39m\n\u001B[32m    504\u001B[39m \u001B[38;5;66;03m# Extract only 'name' from each src in the array of srcs\u001B[39;00m\n\u001B[32m    505\u001B[39m p[\u001B[33m'\u001B[39m\u001B[33msource_frames\u001B[39m\u001B[33m'\u001B[39m] = [quoted(src[\u001B[33m'\u001B[39m\u001B[33mname\u001B[39m\u001B[33m'\u001B[39m]) \u001B[38;5;28;01mfor\u001B[39;00m src \u001B[38;5;129;01min\u001B[39;00m setup[\u001B[33m'\u001B[39m\u001B[33msource_frames\u001B[39m\u001B[33m'\u001B[39m]]\n\u001B[32m--> \u001B[39m\u001B[32m507\u001B[39m \u001B[43mH2OJob\u001B[49m\u001B[43m(\u001B[49m\u001B[43mh2o\u001B[49m\u001B[43m.\u001B[49m\u001B[43mapi\u001B[49m\u001B[43m(\u001B[49m\u001B[33;43m\"\u001B[39;49m\u001B[33;43mPOST /3/Parse\u001B[39;49m\u001B[33;43m\"\u001B[39;49m\u001B[43m,\u001B[49m\u001B[43m \u001B[49m\u001B[43mdata\u001B[49m\u001B[43m=\u001B[49m\u001B[43mp\u001B[49m\u001B[43m)\u001B[49m\u001B[43m,\u001B[49m\u001B[43m \u001B[49m\u001B[33;43m\"\u001B[39;49m\u001B[33;43mParse\u001B[39;49m\u001B[33;43m\"\u001B[39;49m\u001B[43m)\u001B[49m\u001B[43m.\u001B[49m\u001B[43mpoll\u001B[49m\u001B[43m(\u001B[49m\u001B[43m)\u001B[49m\n\u001B[32m    508\u001B[39m \u001B[38;5;66;03m# Need to return a Frame here for nearly all callers\u001B[39;00m\n\u001B[32m    509\u001B[39m \u001B[38;5;66;03m# ... but job stats returns only a dest_key, requiring another REST call to get nrow/ncol\u001B[39;00m\n\u001B[32m    510\u001B[39m \u001B[38;5;28mself\u001B[39m._ex._cache._id = p[\u001B[33m\"\u001B[39m\u001B[33mdestination_frame\u001B[39m\u001B[33m\"\u001B[39m]\n",
      "\u001B[36mFile \u001B[39m\u001B[32m~/PycharmProjects/FactoryRL/.venv/lib/python3.11/site-packages/h2o/job.py:71\u001B[39m, in \u001B[36mH2OJob.poll\u001B[39m\u001B[34m(self, poll_updates)\u001B[39m\n\u001B[32m     69\u001B[39m         pb.execute(\u001B[38;5;28mself\u001B[39m._refresh_job_status, progress_monitor_fn=ft.partial(poll_updates, \u001B[38;5;28mself\u001B[39m))\n\u001B[32m     70\u001B[39m     \u001B[38;5;28;01melse\u001B[39;00m:\n\u001B[32m---> \u001B[39m\u001B[32m71\u001B[39m         \u001B[43mpb\u001B[49m\u001B[43m.\u001B[49m\u001B[43mexecute\u001B[49m\u001B[43m(\u001B[49m\u001B[38;5;28;43mself\u001B[39;49m\u001B[43m.\u001B[49m\u001B[43m_refresh_job_status\u001B[49m\u001B[43m)\u001B[49m\n\u001B[32m     72\u001B[39m \u001B[38;5;28;01mexcept\u001B[39;00m \u001B[38;5;167;01mStopIteration\u001B[39;00m \u001B[38;5;28;01mas\u001B[39;00m e:\n\u001B[32m     73\u001B[39m     \u001B[38;5;28;01mif\u001B[39;00m \u001B[38;5;28mstr\u001B[39m(e) == \u001B[33m\"\u001B[39m\u001B[33mcancelled\u001B[39m\u001B[33m\"\u001B[39m:\n",
      "\u001B[36mFile \u001B[39m\u001B[32m~/PycharmProjects/FactoryRL/.venv/lib/python3.11/site-packages/h2o/utils/progressbar.py:187\u001B[39m, in \u001B[36mProgressBar.execute\u001B[39m\u001B[34m(self, progress_fn, progress_monitor_fn)\u001B[39m\n\u001B[32m    185\u001B[39m \u001B[38;5;66;03m# Query the progress level, but only if it's time already\u001B[39;00m\n\u001B[32m    186\u001B[39m \u001B[38;5;28;01mif\u001B[39;00m \u001B[38;5;28mself\u001B[39m._next_poll_time <= now:\n\u001B[32m--> \u001B[39m\u001B[32m187\u001B[39m     res = \u001B[43mprogress_fn\u001B[49m\u001B[43m(\u001B[49m\u001B[43m)\u001B[49m  \u001B[38;5;66;03m# may raise StopIteration\u001B[39;00m\n\u001B[32m    188\u001B[39m     assert_is_type(res, (numeric, numeric), numeric)\n\u001B[32m    189\u001B[39m     \u001B[38;5;28;01mif\u001B[39;00m \u001B[38;5;129;01mnot\u001B[39;00m \u001B[38;5;28misinstance\u001B[39m(res, \u001B[38;5;28mtuple\u001B[39m):\n",
      "\u001B[36mFile \u001B[39m\u001B[32m~/PycharmProjects/FactoryRL/.venv/lib/python3.11/site-packages/h2o/job.py:136\u001B[39m, in \u001B[36mH2OJob._refresh_job_status\u001B[39m\u001B[34m(self)\u001B[39m\n\u001B[32m    134\u001B[39m \u001B[38;5;28;01mdef\u001B[39;00m\u001B[38;5;250m \u001B[39m\u001B[34m_refresh_job_status\u001B[39m(\u001B[38;5;28mself\u001B[39m):\n\u001B[32m    135\u001B[39m     \u001B[38;5;28;01mif\u001B[39;00m \u001B[38;5;28mself\u001B[39m._poll_count <= \u001B[32m0\u001B[39m: \u001B[38;5;28;01mraise\u001B[39;00m \u001B[38;5;167;01mStopIteration\u001B[39;00m(\u001B[33m\"\u001B[39m\u001B[33m\"\u001B[39m)\n\u001B[32m--> \u001B[39m\u001B[32m136\u001B[39m     jobs = \u001B[38;5;28;43mself\u001B[39;49m\u001B[43m.\u001B[49m\u001B[43m_query_job_status_safe\u001B[49m\u001B[43m(\u001B[49m\u001B[43m)\u001B[49m\n\u001B[32m    137\u001B[39m     \u001B[38;5;28mself\u001B[39m.job = jobs[\u001B[33m\"\u001B[39m\u001B[33mjobs\u001B[39m\u001B[33m\"\u001B[39m][\u001B[32m0\u001B[39m] \u001B[38;5;28;01mif\u001B[39;00m \u001B[33m\"\u001B[39m\u001B[33mjobs\u001B[39m\u001B[33m\"\u001B[39m \u001B[38;5;129;01min\u001B[39;00m jobs \u001B[38;5;28;01melse\u001B[39;00m jobs[\u001B[33m\"\u001B[39m\u001B[33mjob\u001B[39m\u001B[33m\"\u001B[39m][\u001B[32m0\u001B[39m]\n\u001B[32m    138\u001B[39m     \u001B[38;5;28mself\u001B[39m.status = \u001B[38;5;28mself\u001B[39m.job[\u001B[33m\"\u001B[39m\u001B[33mstatus\u001B[39m\u001B[33m\"\u001B[39m]\n",
      "\u001B[36mFile \u001B[39m\u001B[32m~/PycharmProjects/FactoryRL/.venv/lib/python3.11/site-packages/h2o/job.py:128\u001B[39m, in \u001B[36mH2OJob._query_job_status_safe\u001B[39m\u001B[34m(self)\u001B[39m\n\u001B[32m    126\u001B[39m                 time.sleep(\u001B[32m3\u001B[39m)\n\u001B[32m    127\u001B[39m         \u001B[38;5;28;01melse\u001B[39;00m:\n\u001B[32m--> \u001B[39m\u001B[32m128\u001B[39m             \u001B[38;5;28;01mraise\u001B[39;00m e\n\u001B[32m    129\u001B[39m \u001B[38;5;28;01mif\u001B[39;00m result:\n\u001B[32m    130\u001B[39m     \u001B[38;5;28;01mreturn\u001B[39;00m result\n",
      "\u001B[36mFile \u001B[39m\u001B[32m~/PycharmProjects/FactoryRL/.venv/lib/python3.11/site-packages/h2o/job.py:114\u001B[39m, in \u001B[36mH2OJob._query_job_status_safe\u001B[39m\u001B[34m(self)\u001B[39m\n\u001B[32m    112\u001B[39m \u001B[38;5;28;01mtry\u001B[39;00m:\n\u001B[32m    113\u001B[39m     attempts += \u001B[32m1\u001B[39m\n\u001B[32m--> \u001B[39m\u001B[32m114\u001B[39m     result = \u001B[43mh2o\u001B[49m\u001B[43m.\u001B[49m\u001B[43mapi\u001B[49m\u001B[43m(\u001B[49m\u001B[33;43m\"\u001B[39;49m\u001B[33;43mGET /3/Jobs/\u001B[39;49m\u001B[38;5;132;43;01m%s\u001B[39;49;00m\u001B[33;43m\"\u001B[39;49m\u001B[43m \u001B[49m\u001B[43m%\u001B[49m\u001B[43m \u001B[49m\u001B[38;5;28;43mself\u001B[39;49m\u001B[43m.\u001B[49m\u001B[43mjob_key\u001B[49m\u001B[43m)\u001B[49m\n\u001B[32m    115\u001B[39m     \u001B[38;5;28mself\u001B[39m.job_poll_success = \u001B[38;5;28;01mTrue\u001B[39;00m  \u001B[38;5;66;03m# only retry if there was at least one OK response\u001B[39;00m\n\u001B[32m    116\u001B[39m     \u001B[38;5;28;01mbreak\u001B[39;00m\n",
      "\u001B[36mFile \u001B[39m\u001B[32m~/PycharmProjects/FactoryRL/.venv/lib/python3.11/site-packages/h2o/h2o.py:123\u001B[39m, in \u001B[36mapi\u001B[39m\u001B[34m(endpoint, data, json, filename, save_to)\u001B[39m\n\u001B[32m    121\u001B[39m \u001B[38;5;66;03m# type checks are performed in H2OConnection class\u001B[39;00m\n\u001B[32m    122\u001B[39m _check_connection()\n\u001B[32m--> \u001B[39m\u001B[32m123\u001B[39m \u001B[38;5;28;01mreturn\u001B[39;00m \u001B[43mh2oconn\u001B[49m\u001B[43m.\u001B[49m\u001B[43mrequest\u001B[49m\u001B[43m(\u001B[49m\u001B[43mendpoint\u001B[49m\u001B[43m,\u001B[49m\u001B[43m \u001B[49m\u001B[43mdata\u001B[49m\u001B[43m=\u001B[49m\u001B[43mdata\u001B[49m\u001B[43m,\u001B[49m\u001B[43m \u001B[49m\u001B[43mjson\u001B[49m\u001B[43m=\u001B[49m\u001B[43mjson\u001B[49m\u001B[43m,\u001B[49m\u001B[43m \u001B[49m\u001B[43mfilename\u001B[49m\u001B[43m=\u001B[49m\u001B[43mfilename\u001B[49m\u001B[43m,\u001B[49m\u001B[43m \u001B[49m\u001B[43msave_to\u001B[49m\u001B[43m=\u001B[49m\u001B[43msave_to\u001B[49m\u001B[43m)\u001B[49m\n",
      "\u001B[36mFile \u001B[39m\u001B[32m~/PycharmProjects/FactoryRL/.venv/lib/python3.11/site-packages/h2o/backend/connection.py:507\u001B[39m, in \u001B[36mH2OConnection.request\u001B[39m\u001B[34m(self, endpoint, data, json, filename, save_to)\u001B[39m\n\u001B[32m    505\u001B[39m     \u001B[38;5;28;01melse\u001B[39;00m:\n\u001B[32m    506\u001B[39m         \u001B[38;5;28mself\u001B[39m._log_end_exception(e)\n\u001B[32m--> \u001B[39m\u001B[32m507\u001B[39m         \u001B[38;5;28;01mraise\u001B[39;00m H2OConnectionError(\u001B[33m\"\u001B[39m\u001B[33mUnexpected HTTP error: \u001B[39m\u001B[38;5;132;01m%s\u001B[39;00m\u001B[33m\"\u001B[39m % e)\n\u001B[32m    508\u001B[39m \u001B[38;5;28;01mexcept\u001B[39;00m requests.exceptions.Timeout \u001B[38;5;28;01mas\u001B[39;00m e:\n\u001B[32m    509\u001B[39m     \u001B[38;5;28mself\u001B[39m._log_end_exception(e)\n",
      "\u001B[31mH2OConnectionError\u001B[39m: Unexpected HTTP error: ('Connection aborted.', BadStatusLine('GET /3/Jobs/$03017f00000132d4ffffffff$_a93093564cfa5965ff10bfaa59a64f38 HTTP/1.1\\r\\n'))"
     ]
    }
   ],
   "source": [
    "best_mean_ep_reward = -TARGET_Y1\n",
    "# run 5000 many episodes\n",
    "state,mask = env.reset()\n",
    "avg_rewards = []\n",
    "saved_actions = []\n",
    "for i_episode in range(EPISODE_MAX):\n",
    "    #print(i_episode)\n",
    "    # reset environment and episode reward\n",
    "    #state,mask = env.reset()\n",
    "    #history = history.append(env.current_state_pandas.iloc[-1])\n",
    "    ep_reward = 0\n",
    "    total_ep_reward = []\n",
    "\n",
    "    # infinite loop while learning\n",
    "    # 動作20步紀錄buffer 並訓練\n",
    "    for t in range(1, BUFFER_N):\n",
    "\n",
    "        # select action from policy\n",
    "        action = select_action(state,mask)\n",
    "        # take the action\n",
    "        state, reward,mask, done,_ = env.step(action)\n",
    "        saved_actions.append(action)\n",
    "        #print(env.times)\n",
    "        #history = history.append(env.current_state_pandas.tail(1))\n",
    "        model.rewards.append(reward)\n",
    "        #print(model.rewards)\n",
    "        ep_reward += reward\n",
    "        total_ep_reward.append(reward)\n",
    "\n",
    "    last_state_params = env.current_state_pandas\n",
    "    # perform backprop\n",
    "    finish_episode()\n",
    "    mean_ep_reward = np.mean(total_ep_reward)\n",
    "    wandb.log({\"Average reward\": mean_ep_reward})\n",
    "    avg_rewards.append(mean_ep_reward)\n",
    "    if mean_ep_reward > best_mean_ep_reward:\n",
    "      torch.save(model.state_dict(), a2c_model_path)\n",
    "      best_mean_ep_reward = mean_ep_reward\n",
    "    # log results\n",
    "    if i_episode % LOG_INTERVAL  == 0:\n",
    "        print('Episode {}\\tAverage reward: {:.4f}\\t reward history: '.format(\n",
    "                  i_episode, mean_ep_reward), total_ep_reward)\n",
    "\n",
    "    saved_actions_names = act_to_act_names(saved_actions)\n",
    "    table = pd.DataFrame()\n",
    "    table['action'] = saved_actions_names\n",
    "    table['freq'] = 1\n",
    "    table = table.groupby(['action'],as_index=False)[['freq']].sum()\n",
    "    wandb_table = wandb.Table(data=table.values.tolist(), columns = [\"action\", \"freq\"])\n",
    "    wandb.log({\"action freq\" : wandb.plot.bar(wandb_table, \"action\",\"freq\", title=\"Actions Bar Chart\")})\n",
    "    wandb_table_last = wandb.Table(data=last_state_params.values.tolist(), columns = last_state_params.columns.values.tolist())\n",
    "    run.log({\"last_state_params\": wandb_table_last})\n",
    "    # check if we have \"solved\"\n",
    "    if mean_ep_reward > DONE_THRES:\n",
    "        print(\"Solved! Running reward is now {} and \"\n",
    "                  \"the last episode runs to {} time steps!\".format(mean_ep_reward, t))\n",
    "        break"
   ]
  },
  {
   "cell_type": "code",
   "execution_count": null,
   "metadata": {
    "id": "v_2eNNPzIG-_"
   },
   "outputs": [],
   "source": [
    "last_state_params.to_csv('./best_params.csv',index=False)"
   ]
  }
 ],
 "metadata": {
  "colab": {
   "provenance": []
  },
  "kernelspec": {
   "name": "python3",
   "language": "python",
   "display_name": "Python 3 (ipykernel)"
  },
  "language_info": {
   "name": "python"
  }
 },
 "nbformat": 4,
 "nbformat_minor": 0
}
